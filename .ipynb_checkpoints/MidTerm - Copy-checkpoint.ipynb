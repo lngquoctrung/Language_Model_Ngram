{
 "cells": [
  {
   "cell_type": "markdown",
   "id": "1555bdb3",
   "metadata": {
    "tags": []
   },
   "source": [
    "# Import library"
   ]
  },
  {
   "cell_type": "code",
   "execution_count": 1,
   "id": "24d4bed6",
   "metadata": {
    "tags": []
   },
   "outputs": [],
   "source": [
    "import re\n",
    "import os\n",
    "import pickle\n",
    "import pandas as pd\n",
    "import numpy as np\n",
    "from numpy.linalg import norm\n",
    "import requests\n",
    "from time import sleep\n",
    "from tqdm import tqdm\n",
    "import requests\n",
    "from bs4 import BeautifulSoup as soup\n",
    "import matplotlib.pyplot as plt\n",
    "from underthesea import word_tokenize\n",
    "import nltk\n",
    "from collections import Counter\n",
    "\n",
    "from sklearn.preprocessing import LabelEncoder\n",
    "from sklearn.model_selection import train_test_split\n",
    "from sklearn.metrics.pairwise import cosine_similarity, euclidean_distances\n",
    "from sklearn.feature_extraction.text import TfidfVectorizer, CountVectorizer\n",
    "from sklearn.neighbors import KNeighborsClassifier\n",
    "from sklearn.naive_bayes import MultinomialNB\n",
    "from sklearn.svm import SVC\n",
    "from sklearn.metrics import classification_report\n",
    "\n",
    "import tensorflow as tf\n",
    "from tensorflow.keras.layers import Dense, Embedding, Dense, Input, Flatten, Dropout\n",
    "from tensorflow.keras.preprocessing.text import Tokenizer\n",
    "from tensorflow.keras.utils import pad_sequences, to_categorical\n",
    "from tensorflow.keras.models import Sequential\n",
    "tqdm.pandas()"
   ]
  },
  {
   "cell_type": "code",
   "execution_count": 2,
   "id": "186ad742",
   "metadata": {
    "tags": []
   },
   "outputs": [],
   "source": [
    "data = pd.read_csv('dataset/data.csv')"
   ]
  },
  {
   "cell_type": "code",
   "execution_count": 3,
   "id": "146dc15d",
   "metadata": {
    "tags": []
   },
   "outputs": [
    {
     "data": {
      "text/html": [
       "<div>\n",
       "<style scoped>\n",
       "    .dataframe tbody tr th:only-of-type {\n",
       "        vertical-align: middle;\n",
       "    }\n",
       "\n",
       "    .dataframe tbody tr th {\n",
       "        vertical-align: top;\n",
       "    }\n",
       "\n",
       "    .dataframe thead th {\n",
       "        text-align: right;\n",
       "    }\n",
       "</style>\n",
       "<table border=\"1\" class=\"dataframe\">\n",
       "  <thead>\n",
       "    <tr style=\"text-align: right;\">\n",
       "      <th></th>\n",
       "      <th>title</th>\n",
       "      <th>category</th>\n",
       "      <th>content</th>\n",
       "    </tr>\n",
       "  </thead>\n",
       "  <tbody>\n",
       "    <tr>\n",
       "      <th>0</th>\n",
       "      <td>Galaxy Gear có thể điều khiển TV thông minh</td>\n",
       "      <td>Công nghệ</td>\n",
       "      <td>Mẫu đồng hồ thông minh Galaxy Gear của Samsung...</td>\n",
       "    </tr>\n",
       "    <tr>\n",
       "      <th>1</th>\n",
       "      <td>Nhật – Mỹ định hội đàm chớp nhoáng tại Singapo...</td>\n",
       "      <td>Thế giới</td>\n",
       "      <td>&gt;&gt; Phó Tổng thống Mỹ công du châu Á, bàn về Bi...</td>\n",
       "    </tr>\n",
       "    <tr>\n",
       "      <th>2</th>\n",
       "      <td>Hàng ngàn học sinh miền núi Nghệ An bỏ học</td>\n",
       "      <td>Giáo dục</td>\n",
       "      <td>Hàng ngàn học sinh sau khi tốt nghiệp THCS đã ...</td>\n",
       "    </tr>\n",
       "    <tr>\n",
       "      <th>3</th>\n",
       "      <td>'Cô ấy bỏ em vì... em gái trượt đại học?'</td>\n",
       "      <td>Đời sống</td>\n",
       "      <td>Mr Búp Bê (BB): Hay là bạn phải đến kèm cho cô...</td>\n",
       "    </tr>\n",
       "    <tr>\n",
       "      <th>4</th>\n",
       "      <td>Cậu bé vượt qua Face ID của iPhone ngang anh Q...</td>\n",
       "      <td>Công nghệ</td>\n",
       "      <td>Trang Wired mới đây đưa thông tin cậu bé Ammar...</td>\n",
       "    </tr>\n",
       "  </tbody>\n",
       "</table>\n",
       "</div>"
      ],
      "text/plain": [
       "                                               title   category  \\\n",
       "0        Galaxy Gear có thể điều khiển TV thông minh  Công nghệ   \n",
       "1  Nhật – Mỹ định hội đàm chớp nhoáng tại Singapo...   Thế giới   \n",
       "2         Hàng ngàn học sinh miền núi Nghệ An bỏ học   Giáo dục   \n",
       "3          'Cô ấy bỏ em vì... em gái trượt đại học?'   Đời sống   \n",
       "4  Cậu bé vượt qua Face ID của iPhone ngang anh Q...  Công nghệ   \n",
       "\n",
       "                                             content  \n",
       "0  Mẫu đồng hồ thông minh Galaxy Gear của Samsung...  \n",
       "1  >> Phó Tổng thống Mỹ công du châu Á, bàn về Bi...  \n",
       "2  Hàng ngàn học sinh sau khi tốt nghiệp THCS đã ...  \n",
       "3  Mr Búp Bê (BB): Hay là bạn phải đến kèm cho cô...  \n",
       "4  Trang Wired mới đây đưa thông tin cậu bé Ammar...  "
      ]
     },
     "execution_count": 3,
     "metadata": {},
     "output_type": "execute_result"
    }
   ],
   "source": [
    "data.head(5)"
   ]
  },
  {
   "cell_type": "code",
   "execution_count": 4,
   "id": "15c681d6",
   "metadata": {
    "tags": []
   },
   "outputs": [
    {
     "data": {
      "text/plain": [
       "(51999, 3)"
      ]
     },
     "execution_count": 4,
     "metadata": {},
     "output_type": "execute_result"
    }
   ],
   "source": [
    "data.shape"
   ]
  },
  {
   "cell_type": "code",
   "execution_count": 5,
   "id": "429d6975",
   "metadata": {
    "scrolled": true,
    "tags": []
   },
   "outputs": [
    {
     "data": {
      "text/plain": [
       "'Mẫu đồng hồ thông minh Galaxy Gear của Samsung - Ảnh: AFP.\\nTheo SlashGear hôm 2.10, nếu tương tác với TV thông minh thì Galaxy Gear có thể đảm nhiệm một số chức năng như: chuyển kênh, tăng giảm âm lượng, tắt mở TV...\\nNgoài ra, Galaxy Gear còn có khả năng theo dõi sức khỏe. Tức là các thông tin về sức khỏe của người dùng khi đeo thiết bị sẽ được phát đến TV để họ nắm được tình trạng sức khỏe của mình.\\nĐược biết, hiện Galaxy Gear chỉ có thể làm việc trên các thiết bị di động của Samsung như Galaxy Note 3 và Galaxy Tab 10,1 inch. Thời gian tới, các thiết bị khác như Galaxy S4, Galaxy Note 2 cũng sẽ có bản cập nhật để tương tác được với Galaxy Gear.\\nThành Luân.\\n'"
      ]
     },
     "execution_count": 5,
     "metadata": {},
     "output_type": "execute_result"
    }
   ],
   "source": [
    "data['content'].iloc[0]"
   ]
  },
  {
   "cell_type": "markdown",
   "id": "a371e5c3",
   "metadata": {
    "tags": []
   },
   "source": [
    "# Data cleaning\n",
    "* Remove special characters in each column of data\n",
    "* Convert all text to lowercase\n",
    "* Tokenize"
   ]
  },
  {
   "cell_type": "code",
   "execution_count": 6,
   "id": "1da666eb",
   "metadata": {
    "tags": []
   },
   "outputs": [],
   "source": [
    "def preprocessing(text):\n",
    "    reg_vn_char = \"[^\\w ]\"\n",
    "    # Covert to lowercase\n",
    "    text = text.lower()\n",
    "    # Remove special character\n",
    "    text = re.sub(reg_vn_char, \"\", text)\n",
    "    # Remove number\n",
    "    text = re.sub(\"\\d\", \"\", text)\n",
    "    # Combine meaningful phrases, examole = phó_tổng_thống\n",
    "    text = word_tokenize(text, format=\"text\")\n",
    "    return text"
   ]
  },
  {
   "cell_type": "code",
   "execution_count": 7,
   "id": "18aacc6c",
   "metadata": {
    "tags": []
   },
   "outputs": [],
   "source": [
    "if os.path.isfile(\"dataset/clean_data.csv\"):\n",
    "    clean_data = pd.read_csv(\"dataset/clean_data.csv\")\n",
    "else:\n",
    "    clean_data = data.copy()\n",
    "    clean_data['title'] = clean_data['title'].progress_apply(preprocessing)\n",
    "    clean_data['category'] = clean_data['category'].progress_apply(preprocessing)\n",
    "    clean_data['content'] = clean_data['content'].progress_apply(preprocessing)\n",
    "    clean_data.to_csv(\"dataset/clean_data.csv\", index=False)"
   ]
  },
  {
   "cell_type": "code",
   "execution_count": 8,
   "id": "9453705a",
   "metadata": {
    "scrolled": true,
    "tags": []
   },
   "outputs": [
    {
     "data": {
      "text/html": [
       "<div>\n",
       "<style scoped>\n",
       "    .dataframe tbody tr th:only-of-type {\n",
       "        vertical-align: middle;\n",
       "    }\n",
       "\n",
       "    .dataframe tbody tr th {\n",
       "        vertical-align: top;\n",
       "    }\n",
       "\n",
       "    .dataframe thead th {\n",
       "        text-align: right;\n",
       "    }\n",
       "</style>\n",
       "<table border=\"1\" class=\"dataframe\">\n",
       "  <thead>\n",
       "    <tr style=\"text-align: right;\">\n",
       "      <th></th>\n",
       "      <th>title</th>\n",
       "      <th>category</th>\n",
       "      <th>content</th>\n",
       "    </tr>\n",
       "  </thead>\n",
       "  <tbody>\n",
       "    <tr>\n",
       "      <th>0</th>\n",
       "      <td>galaxy gear có_thể điều_khiển tv thông_minh</td>\n",
       "      <td>công_nghệ</td>\n",
       "      <td>mẫu đồng_hồ thông_minh galaxy gear của samsung...</td>\n",
       "    </tr>\n",
       "    <tr>\n",
       "      <th>1</th>\n",
       "      <td>nhật mỹ_định hội_đàm chớp_nhoáng tại singapore...</td>\n",
       "      <td>thế_giới</td>\n",
       "      <td>phó_tổng_thống mỹ công_du châu_á bàn về biển đ...</td>\n",
       "    </tr>\n",
       "    <tr>\n",
       "      <th>2</th>\n",
       "      <td>hàng ngàn học_sinh miền núi nghệ_an bỏ học</td>\n",
       "      <td>giáo_dục</td>\n",
       "      <td>hàng ngàn học_sinh sau khi tốt_nghiệp thcs đã ...</td>\n",
       "    </tr>\n",
       "    <tr>\n",
       "      <th>3</th>\n",
       "      <td>cô ấy bỏ em vì em_gái trượt đại_học</td>\n",
       "      <td>đời_sống</td>\n",
       "      <td>mr búp_bê bb hay_là bạn phải đến kèm cho cô em...</td>\n",
       "    </tr>\n",
       "    <tr>\n",
       "      <th>4</th>\n",
       "      <td>cậu bé vượt qua face id của iphone ngang anh q...</td>\n",
       "      <td>công_nghệ</td>\n",
       "      <td>trang wired mới_đây đưa thông_tin cậu bé ammar...</td>\n",
       "    </tr>\n",
       "  </tbody>\n",
       "</table>\n",
       "</div>"
      ],
      "text/plain": [
       "                                               title   category  \\\n",
       "0        galaxy gear có_thể điều_khiển tv thông_minh  công_nghệ   \n",
       "1  nhật mỹ_định hội_đàm chớp_nhoáng tại singapore...   thế_giới   \n",
       "2         hàng ngàn học_sinh miền núi nghệ_an bỏ học   giáo_dục   \n",
       "3                cô ấy bỏ em vì em_gái trượt đại_học   đời_sống   \n",
       "4  cậu bé vượt qua face id của iphone ngang anh q...  công_nghệ   \n",
       "\n",
       "                                             content  \n",
       "0  mẫu đồng_hồ thông_minh galaxy gear của samsung...  \n",
       "1  phó_tổng_thống mỹ công_du châu_á bàn về biển đ...  \n",
       "2  hàng ngàn học_sinh sau khi tốt_nghiệp thcs đã ...  \n",
       "3  mr búp_bê bb hay_là bạn phải đến kèm cho cô em...  \n",
       "4  trang wired mới_đây đưa thông_tin cậu bé ammar...  "
      ]
     },
     "execution_count": 8,
     "metadata": {},
     "output_type": "execute_result"
    }
   ],
   "source": [
    "clean_data.head(5)"
   ]
  },
  {
   "cell_type": "markdown",
   "id": "e7455bee",
   "metadata": {},
   "source": [
    "# Visualization\n",
    "* Statistics of the number of category\n",
    "* Number of words in each sentence\n",
    "* Longest sentence"
   ]
  },
  {
   "cell_type": "markdown",
   "id": "f2c2c460",
   "metadata": {},
   "source": [
    "### Number of categories"
   ]
  },
  {
   "cell_type": "code",
   "execution_count": 9,
   "id": "7eb758bc",
   "metadata": {
    "tags": []
   },
   "outputs": [
    {
     "data": {
      "text/plain": [
       "công_nghệ    4000\n",
       "thế_giới     4000\n",
       "giáo_dục     4000\n",
       "đời_sống     4000\n",
       "xã_hội       4000\n",
       "kinh_tế      4000\n",
       "nhà đất      4000\n",
       "thể_thao     4000\n",
       "văn_hóa      4000\n",
       "pháp_luật    4000\n",
       "giải_trí     4000\n",
       "xe_cộ        4000\n",
       "khoa_học     3999\n",
       "Name: category, dtype: int64"
      ]
     },
     "execution_count": 9,
     "metadata": {},
     "output_type": "execute_result"
    }
   ],
   "source": [
    "num_categories = clean_data['category'].value_counts()\n",
    "num_categories"
   ]
  },
  {
   "cell_type": "code",
   "execution_count": 150,
   "id": "0c5b3b79",
   "metadata": {
    "tags": []
   },
   "outputs": [
    {
     "name": "stdout",
     "output_type": "stream",
     "text": [
      "Number of categories: 13\n"
     ]
    }
   ],
   "source": [
    "print(f\"Number of categories: {num_categories.count()}\")"
   ]
  },
  {
   "cell_type": "code",
   "execution_count": 11,
   "id": "7b027fa2",
   "metadata": {
    "tags": []
   },
   "outputs": [
    {
     "data": {
      "text/plain": [
       "Text(0, 0.5, 'Number of categories')"
      ]
     },
     "execution_count": 11,
     "metadata": {},
     "output_type": "execute_result"
    },
    {
     "data": {
      "image/png": "[encoded data removed]",
      "text/plain": [
       "<Figure size 1500x1000 with 1 Axes>"
      ]
     },
     "metadata": {},
     "output_type": "display_data"
    }
   ],
   "source": [
    "plt.figure(figsize=(15, 10))\n",
    "plt.bar(num_categories.index, num_categories)\n",
    "plt.xlabel(\"Category\")\n",
    "plt.ylabel(\"Number of categories\")"
   ]
  },
  {
   "cell_type": "markdown",
   "id": "492af31b",
   "metadata": {},
   "source": [
    "### Number of words each sentences\n",
    "* Number of words each sentences\n",
    "* Remove sentences shorter than 50 words\n",
    "* 50 shortest sentences\n",
    "* 50 longest sentences"
   ]
  },
  {
   "cell_type": "markdown",
   "id": "d3a5932f-8783-4c45-ab74-585b8c6a4d58",
   "metadata": {
    "tags": []
   },
   "source": [
    "#### Number of words each sentences"
   ]
  },
  {
   "cell_type": "code",
   "execution_count": 22,
   "id": "2267f040",
   "metadata": {
    "tags": []
   },
   "outputs": [],
   "source": [
    "num_words = [len(clean_data['content'].iloc[i].split(\" \")) for i in range(clean_data['content'].shape[0])]"
   ]
  },
  {
   "cell_type": "code",
   "execution_count": 23,
   "id": "80dac80d",
   "metadata": {
    "tags": []
   },
   "outputs": [],
   "source": [
    "num_words_df = clean_data.copy()\n",
    "del num_words_df['category']\n",
    "del num_words_df['title']\n",
    "num_words_df['num_words'] = num_words"
   ]
  },
  {
   "cell_type": "code",
   "execution_count": 24,
   "id": "be3d102d",
   "metadata": {
    "tags": []
   },
   "outputs": [
    {
     "data": {
      "text/html": [
       "<div>\n",
       "<style scoped>\n",
       "    .dataframe tbody tr th:only-of-type {\n",
       "        vertical-align: middle;\n",
       "    }\n",
       "\n",
       "    .dataframe tbody tr th {\n",
       "        vertical-align: top;\n",
       "    }\n",
       "\n",
       "    .dataframe thead th {\n",
       "        text-align: right;\n",
       "    }\n",
       "</style>\n",
       "<table border=\"1\" class=\"dataframe\">\n",
       "  <thead>\n",
       "    <tr style=\"text-align: right;\">\n",
       "      <th></th>\n",
       "      <th>content</th>\n",
       "      <th>num_words</th>\n",
       "    </tr>\n",
       "  </thead>\n",
       "  <tbody>\n",
       "    <tr>\n",
       "      <th>0</th>\n",
       "      <td>mẫu đồng_hồ thông_minh galaxy gear của samsung...</td>\n",
       "      <td>106</td>\n",
       "    </tr>\n",
       "    <tr>\n",
       "      <th>1</th>\n",
       "      <td>phó_tổng_thống mỹ công_du châu_á bàn về biển đ...</td>\n",
       "      <td>207</td>\n",
       "    </tr>\n",
       "    <tr>\n",
       "      <th>2</th>\n",
       "      <td>hàng ngàn học_sinh sau khi tốt_nghiệp thcs đã ...</td>\n",
       "      <td>112</td>\n",
       "    </tr>\n",
       "    <tr>\n",
       "      <th>3</th>\n",
       "      <td>mr búp_bê bb hay_là bạn phải đến kèm cho cô em...</td>\n",
       "      <td>328</td>\n",
       "    </tr>\n",
       "    <tr>\n",
       "      <th>4</th>\n",
       "      <td>trang wired mới_đây đưa thông_tin cậu bé ammar...</td>\n",
       "      <td>539</td>\n",
       "    </tr>\n",
       "  </tbody>\n",
       "</table>\n",
       "</div>"
      ],
      "text/plain": [
       "                                             content  num_words\n",
       "0  mẫu đồng_hồ thông_minh galaxy gear của samsung...        106\n",
       "1  phó_tổng_thống mỹ công_du châu_á bàn về biển đ...        207\n",
       "2  hàng ngàn học_sinh sau khi tốt_nghiệp thcs đã ...        112\n",
       "3  mr búp_bê bb hay_là bạn phải đến kèm cho cô em...        328\n",
       "4  trang wired mới_đây đưa thông_tin cậu bé ammar...        539"
      ]
     },
     "execution_count": 24,
     "metadata": {},
     "output_type": "execute_result"
    }
   ],
   "source": [
    "num_words_df.head(5)"
   ]
  },
  {
   "cell_type": "code",
   "execution_count": 25,
   "id": "cc0828c3",
   "metadata": {
    "collapsed": true,
    "jupyter": {
     "outputs_hidden": true
    },
    "tags": []
   },
   "outputs": [
    {
     "name": "stdout",
     "output_type": "stream",
     "text": [
      "The max length: 5728\n",
      "The longest sentence:\n",
      "sáng nay các khách_mời đã cùng trao_đổi những vướng_mắc trong ngăn_chặn tài_xế say_xỉn gây thảm_họa giao_thông tại tọa_đàm trực_tuyến cách nào giảm tngt do uống rượu_bia do báo giao_thông tổ chứcquảng cảnh buổi tọa đàmcác khách_mời tham_gia tọa_đàm sẽ cùng trao_đổi về những tác_hại của việc sử_dụng bia rượu khi tham_gia giao_thông và làm cách nào để giảm_thiểu tngt do rượu_bia gây ra những vướng_mắc trong kiểm_soát xử_phạt tài_xế say_xỉn cũng sẽ được đặt ra với nhiều ý_kiến đa chiềukhách mời tham_gia tọa_đàm gồm có phó chủ_tịch chuyên_trách ủy_ban an_toàn giao_thông quốc_gia khuất việt_hùng vụ_trưởng vụ atgt bộ gtvt nguyễn_văn_thuấn vụ_trưởng vụ pháp_chế bộ gtvt trịnh_thị hằng nga chánh văn_phòng ủy_ban atgt quốc_gia nguyễn_trọng thái_phó ban chuyên_trách ban atgt quảng_ninh nguyễn_thị_hiền phó chủ_tịch hiệp_hội vận_tải ô_tô vn thân văn thanh chủ_tịch hiệp_hội bia rượu nước_giải_khát nguyễn_văn_việt chủ_tịch hđqt công_ty cp bia sài_gòn bình tây văn thanh_liêm tgđ công_ty công_ty cp bia sài_gòn bình tây nguyễn xuân_hải hiệu_trưởng trường đại_học công_nghiệp vinh_gsts đinh văn thuậncác khách_mời tại đầu cầu tphcm gồm nguyên trưởng_ban tư_tưởng văn_hóa thành_ủy tphcm gs phan xuân biên bác_sĩ trương thế hiệp phó khoa cấp_cứu bệnh_viện chợ rẫy tp hồ chí_minh thiếu_tá huỳnh trung_phong phó trưởng_phòng csgt công_an tphcmthưa ông mỗi năm có hàng ngàn vụ tngt xảy ra ở nước ta mà nguyên_nhân do người điều_khiển phương_tiện giao_thông đã sử_dụng rượu_bia mặc_dù đã có các đợt tuyên_truyền vận đồng và quy_định xử_phạt hành_chính đối_với người tham_gia giao_thông khi sử_dụng rượu_bia quá nồng_độ cho_phép nhưng tình_trạng sử_dụng rượu_bia khi tham_gia giao_thông vẫn không giảm ông đánh_giá như thế_nào về vấn_đề nàyông khuất việt hùngphó chủ_tịch chuyên_trách ủy_ban atgt qgông khuất việt_hùng phó chủ_tịch chuyên_trách ủy_ban atgt qg có_thể nói cho đến thời_điểm hiện_nay luật giao_thông đường_bộ đã có quy_định nghiêm_cấm người điều_khiển ô_tô không được điều_khiển phương_tiện với những mức_độ khác nhautuy nhiên thời_gian qua tình_trạng lạm_dụng rượu_bia điều_khiển phương_tiện trong tình_trạng say_xỉn không chỉ không giảm mà_còn có chiều_hướng gia_tăng các số_liệu thống_kê chính_thức về nguyên_nhân trực_tiếp xảy ra tngt do rượu_bia thì chưa cao có địa_phương khoảng nhưng nhiều địa_phương còn thấp hơn nhưng số_liệu chúng_tôi có được qua một_số cơ_quan_chức_năng nhất là tại các bệnh_viện lớn thì số_liệu cao hơn nhiềuđơn cử tại bệnh_viện việt đức có tới_số ca vào cấp_cứu do tngt có liên_quan đến sử_dụng rượu_bia trong đó số ca chấn_thương đầu có sử_dụng rượu_bia những năm qua chúng_ta đã có nhiều biện_pháp kiểm_tra kiểm_soát tuyên_truyền vận_động nhưng thực_sự tình_hình sử_dụng rượu_bia khi tham_gia giao_thông không có nhiều thuyên_giảm chúng_tôi vừa kiểm_tra công_tác atgt tại tỉnh bà_rịa vũng_tàu và nhận thấy trong số người chết do tngt gây ra trong tháng đầu năm có đến người chết do tự gây ra không va_chạm với ai nguyên_nhân chủ_yếu là đi xe_máy tự đâm vào dải_phân_cách tự ngã gây tai_nạn tử_vong số còn lại cũng không ít trường_hợp_tử_vong do sử_dụng rượu_bia quá mức đây là vấn_đề rất đáng báo độngchúng tôi hoan_nghênh báo giao_thông đã tổ_chức buổi tọa_đàm này đây là việc_làm rất có ý_nghĩa tại cuộc tọa_đàm này có đại_diện đơn_vị sản_xuất kinh_doanh rượu_bia là ông nguyễn_văn_việt chủ_tịch hiệp_hội bia rượu nước_giải_khát việt nam chủ_tịch hiệp_hội rượu_bia và đại_diện của các đơn_vị kinh_doanh vận_tải là ông thân văn thanh phó chủ_tịch hiệp_hội vận_tải ô_tô vn sẽ đóng_góp ý_kiến để chúng_ta có cuộc trao_đổi lớn tọa_đàm cởi_mở cùng nhau thúc_đẩy vận_động người_dân có ý_thức hơn trong việc sử_dụng rượu_bia về văn_hóa không nên cấm tuyệt_đối rượu_bia nhưng sử_dụng làm_sao cho có văn_hóa vui_vẻ mang lại kết_quả hạnh_phúc chứ không phải mang lại những nỗi đau do tngt gây ra thời_gian tới cần có nhưng đợt cao_điểm xử_lý vi_phạm rượu_bia nhất là trong quý iv để mang lại hạnh_phúc cho người tham_gia giao thôngmột vụ tai_nạn do người điều_khiển mô_tô sử_dụng rượu_bia ngay trước khi lái xethường xuyên tiếp_xúc với các ca cấp_cứu nạn_nhân tngt xin ông cho biết tỷ_lệ các ca cấp_cứu mà nạn_nhân có uống rượu_bia vào_khoảng bao_nhiêu phần trămông trương thế hiệpphó trưởng khoa cấp_cứu bv chợ rẫyông trương thế hiệp phó trưởng khoa cấp_cứu bv chợ rẫy trung_bình năm mỗi ngày tiếp_nhận đến ca trong đó rất nhiều vụ do tngt do uống rượu_bia là thậm_chí có nhiều bệnh_nhân có nồng_độ cồn cao hơn lần so với quy địnhkhi bị tai_nạn những người này còn gây tai_nạn cho những người khác nạn_nhân có nồng_độ cồn trong máu cao gây khó_khăn cho công_tác cấp_cứu phần_lớn nạn_nhân có độ tuổi đến tuổivới người điều_khiển xe_gắn_máy thì uống bao_nhiêu rượu_bia thì vi_phạm nồng_độ cồnông trương thế hiệp phó trưởng khoa cấp_cứu bv chợ rẫy tùy vào loại rượu_bia của nhà_sản_xuất có những loại rượu độ cồn nhưng cũng có loại bia đến độ cồn theo wto khuyến_cáo thì mỗi người một ngày sử_dụng một ngày ml rượu_mạnh đối_với rượu nhẹ thì có_thể uống ml bia thì chỉ uống ml tức khoảng lontức là tùy theo sức_khỏe của từng người mà tốt nhất khi điều_khiển phương_tiện giao_thông thì không uống bia rượutheo quy_định người điều_khiển xe có nồng_độ cồn trong máu bao_nhiêu là vi phạmthiếu tá huỳnh trung_phong phó trưởng_phòng csgt công_an tp hcm luật gtđb cấm sử_dụng rượu_bia khi tham_gia giao_thông người điều_khiển xe ô_tô bị cấm không được sử_dụng rượu biathiếu tá huỳnh trung phongphó trưởng_phòng csgt công_an tp hcmtỷ lệ người uống rượu bị phạt thấp do csgt ngại xử_phạt vì họ hay chống_đối ở tphcm có hiện_tượng này khôngthiếu tá huỳnh trung_phong_tình_hình sử_dụng rượu_bia trong thời_gian gần đây sau khi tuyên_truyền xử_phạt ý_thức của người_dân có chuyển_biến có chiều_hướng giảm chứ không nhiều như những năm trước việc điều_khiển xe trong điều_kiện có rượu_bia thì hậu_quả nặng hơn so với người bình_thường csgt bên cạnh tuyên_truyền thì tăng_cường xử phạtqua tìm_hiểu các nguyên_nhân thì xác_định nguyên_nhân chính trong đó trọng_tâm là người điều_khiển phương_tiện sử_dụng rượu_bia trong tháng đã kiểm_tra trên trường_hợp vi phạmtrong giai_đoạn đầu triển_khai đo nồng_độ cồn gặp khó_khăn do bị chống_chế không hợp_tác hoặc do quá say nên thổi vào máy không được có lời_nói nhục_mạ csgt csgt đã rút kinh_nghiệm lựa_chọn những cán_bộ chiến_sĩ ứng_xử tốt trách_nhiệm cao để thực_hiện nhiệm_vụ từ đó mà cũng bớt khó_khăn hơnhiện nay csgt tp hồ chí_minh có kiểm_tra ở quán nhậu không thưa ôngthiếu tá huỳnh trung_phong chúng_tôi không kiểm_tra tại các quán mà kiểm_tra trên các tuyến đường trọng_điểm có nhiều quán ăn đây là những tuyến đường có tngt cao đồng_thời cũng xác_định các thời_gian cao_điểm xảy ra tngt và các điểm đen tngt chứ không trực tại các quándo kiểm_tra xử_phạt tài_xế say_xỉn gặp nhiều khó_khăn có tình_trạng csgt ngại xử_phạt đối_tượng này xin được hỏi thiếu_tá phong tp hcm có khoán phạt hành_vi sử_dụng rượu_bia khi điều_khiển phương_tiện khôngthiếu tá huỳnh trung_phong chúng_tôi không khoán chúng_tôi xác_định đây là một trong những nguyên_nhân chính gây tngt và tập_trung xử_lý chúng_tôi linh_hoạt bố_trí cán_bộ và địa_điểm một_cách khoa_học đồng_bộ để đạt hiệu_quả caoquảng cảnh buổi tọa_đàm đầu cầu tphồ chí minhquảng ninh là trong tỉnh thí_điểm kiểm_tra nồng_độ cồn siêu nhanh qua thực_tế triển_khai hiệu_quả đạt được như thế_nào còn gì vướng mắcbà nguyễn_thị_hiềnphó ban chuyên_trách ban atgt quảng ninhbà nguyễn_thị_hiền phó ban chuyên_trách ban atgt quảng_ninh việc kiểm_tra nồng_độ cồn siêu nhanh theo quy_chuẩn quốc_tế đã được triển_khai thí_điểm tại quảng_ninh theo quy_trình sau khi dừng xe lái_xe ngồi tại vị_trí lái cảnh_sát đưa ống_thổi lái_xe có dấu_hiệu vi_phạm nồng_độ cồn sẽ bị đưa vào xử_lý theo quy_định trong trường_hợp không vi_phạm sẽ được đi ngay thời_gian kiểm_tra chỉ mất giâysau năm triển_khai chương_trình đã tiến_hành sơ_kết tại hà nội vào tháng và tại quảng_ninh vào tháng đánh_giá bước_đầu cho thấy đây là mô_hình hiệu_quả cao trong tháng đầu quảng_ninh đã dừng kiểm_tra trên lượt phương_tiện phát_hiện trường_hợp vi_phạm về nồng_độ cồn hiệu_quả rõ nhất trong quy_trình này là trong khoảng thời_gian ngắn kiểm_soát được số_lượng lớn phương_tiện qua việc kiểm_soát xử_lý vi_phạm về nồng_độ cồn nói_chung và việc kiểm_tra áp_dụng kinh_nghiệm quốc_tế nói_riêng cho thấy đã có ảnh_hưởng tích_cực đối_với người điều_khiển phương_tiện tạo được sức răn_đe giáo_dục tốt góp_phần phòng_ngừa hạn_chế tngt qua đó bước_đầu có ý_nghĩa răn_đe các lái_xe khi tham_gia giao_thông được dư_luận ủng_hộ và chính_quyền đánh_giá caomô hình này đã được tổng_cục cảnh_sát quản_lý hành_chính về trật_tự an_toàn xã_hội tổng_cục vii bộ công_an ban_hành hướng_dẫn kiểm_tra nồng_độ cồn theo tiêu_chuẩn quốc_tế ngày tuy_nhiên trong quá_trình triển_khai còn nhiều bất_cập khó_khăn trước_hết vì chỉ tập_trung cho một chuyên_đề này nên các lực_lượng chức_năng sẽ dễ bỏ_sót hành_vi khác như lái_xe điều_khiển không có bằng chẳng_hạn quá_trình kiểm_tra cũng đòi_hỏi lực_lượng tương_đối đông gồm đồng_chí cho một chốt kiểm_tra bao_gồm cảnh_sát trật_tự cảnh_sát cơ_động và cảnh_sát giao_thông nên khó huy_động đầy_đủ lực_lượng triển_khai ngoài_ra việc kiểm_tra thường được triển_khai vào ban_đêm ánh_sáng chưa đạt yêu_cầu gây khó_khăn cho công_tác tuần_tra kiểm_soát địa_điểm kiểm_tra trên đường một_chiều làn đường rộng có bãi đỗ rộng trong khi đó đối_tượng vi_phạm thường tập_trung tại các quántuy nhiên nhìn tổng_thể có_thể khẳng_định việc kiểm_tra nồng_độ cồn ở quảng_ninh đã tạo được sự đồng_thuận ủng_hộ của nhân_dân và được các cấp chính_quyền đánh_giá caothời gian tới để chương_trình này được duy_trì hiệu_quả chúng_tôi đề_xuất có_thể bố_trí xe cơ_động có trang_bị đầy_đủ thiết_bị để có_thể kiểm_tra nồng_độ cồn siêu nhanh bất_cứ lúc_nào tại nhiều vị_trí khác nhau đồng_thời ubatgt qg cùng bộ công_an tiến_hành triển_khai mô_hình này nhân rộng trên toàn_quốc qua đó tạo thành thói_quen của người khi tham_gia giao_thông hạn_chế rượu_bia khi tham_gia giao_thông góp_phần giảm tngt rõ rệtcsgt quảng_ninh kiểm_tra nồng_độ cồn siêu nhanh khi tài_xế vẫn ngồi trên xemột độc_giả của báo giao_thông hỏi tôi uống rượu từ sáng nhưng đến trưa lái_xe đi qua quảng_ninh kiểm_tra vẫn bị xử_phạt vậy nguyên_nhân vì_sao mong các cơ_quan_chức_năng và chuyên_gia giải_thích giúpông khuất việt_hùng phó chủ_tịch chuyên_trách ủy_ban atgt qg điều này rất đơn_giản cá_nhân tôi có kinh_nghiệm nhiều lần sơ_kết xử_lý vi_phạm nồng_độ cồn tại quảng_ninh tôi có lần uống từ tối hôm trước sáng hôm sau thổi vào máy đo nồng_độ cồn thì chỉ còn việc độc_giả uống từ sáng mà chiều vẫn thấy có_thể do mấy trường_hợp là do uống quá nhiều hoặc tốc_độ phân_giải của cơ_thể chậm độ phân_giải nhanh hay chậm của mỗi người là khác nhau tôi có lời khuyên với độc_giả này là nếu có uống thì nên uống từ tối hôm trước để hôm sau có đủ thời_gian phân_giải hết sẽ không bị xử phạtxin hỏi ngoài những ý_kiến trao_đổi ở trên theo ông còn nguyên_nhân nào cần chú_ý để đưa ra giải_pháp tốt hạn_chế lái_xe uống rượu_bia gây tngtông thân văn thanhphó chủ_tịch hiệp_hội vận_tải ô_tô vnông thân văn thanh phó chủ_tịch hiệp_hội vận_tải ô_tô vn về nguyên_nhân chúng_ta có_thể nói văn_hóa uống rượu_bia của dân_tộc ta đã có từ hàng trăm năm đã thấm sâu vào máu của từng người muốn thay_đổi văn_hóa đó trước_hết cần sự nỗ_lực của các cơ_quan truyền_thông để mọi người đều nhận_thức được tác_hại của rượu_bia nhất là đối_tượng điều_khiển phương_tiện giao_thông hiện có triệu gplx ô_tô và triệu gplx mô_tô như vậy là gần dân_số sử_dụng phương_tiện giao_thông từ đó đặt ra vấn_đề nguyên_nhân người điều_khiển phương_tiện chưa nói không với rượu_bia khi tham_gia giao_thông tất_cả đều do văn_hóa rượu_bia và do tính bốc_đồng của từng người mặc_dù biết là sau khi uống rượu_bia có_thể gây tai_họa do tác_động của nồng_độ cồn đến nhận_thức hành viở đây cũng có nguyên_nhân về phía cơ_quan nhà_nước cơ_quan_chức_năng trong thực_thi pháp_luật cưỡng_chế thi_hành thiết_bị đo nồng_độ cồn mới được du_nhập vào nước ta từ giai_đoạn đầu chỉ là thiết_bị thử_nghiệm kinh_nghiệm quốc_tế đã làm nhiều năm nhưng nước ta mới thí_điểm ở quảng_ninh do điều_kiện kinh_tế vn nên chưa du_nhập được nhiều thiết_bị kỹ_thuật hiện_đại_để mở_rộng kiểm_tra tạo chuyển_biến trong nhận_thức người dâncác doanh_nghiệp vận_tải có giải_pháp gì để quản_lý các lái_xe không sử_dụng rượu_bia trong hành trìnhông thân văn thanh phó chủ_tịch hiệp_hội vận_tải ô_tô vn trong số triệu lái xe ô_tô dự_tính có khoảng hơn triệu lái xe đang lao_động trong hội_viên của hiệp_hội ủy_ban atgt quốc_gia và hiệp_hội đã chuyển tới các doanh_nghiệp đội xe những khẩu_hiệu quảng_bá rằng đã uống rượu_bia thì không điều_khiển phương_tiện và không một chủ doanh_nghiệp trưởng đội xe nào lại dại_dột giao cho lái_xe say_xỉn điều_khiển phương_tiện trị_giá hàng tỷ đồngchúng tôi vẫn đang tích_cực tuyên_truyền phổ_biến đến từng lái_xe để họ nhận_thức được tác_hại của rượu_bia đối_với việc điều_khiển phương_tiện khi tham_gia giao thôngtheo quy_định người điều_khiển xe có nồng_độ cồn trong máu bao_nhiêu là vi phạmthiếu tá huỳnh trung phongphó trưởng_phòng csgt công_an tp hcmthiếu tá huỳnh trung_phong phó trưởng_phòng csgt công_an tp hcm theo quy_định hiện_nay người lái xe_máy có nồng_độ cồn trong máu bao_nhiêu là vi_phạm luật mức xử_phạt là bao_nhiêu người lái ô_tô vì_sao bị cấm tuyệt_đối uống rượubia nếu vi_phạm mức phạt như thế nàocăn cứ tại khoản điều_luật giao_thông đường bộ năm nghiêm_cấm người điều_khiển xe ô_tô máy_kéo xe_máy chuyên_dùng trên đường mà trong máu hoặc hơi thở có nồng_độ cồn nghiêm_cấm người điều_khiển xe mô_tô xe_gắn_máy mà trong máu có nồng_độ cồn vượt quá miligam mililít máu hoặc miligam lít khí thởtrong trường_hợp người điều_khiển phương_tiện vi_phạm quy_định trên lực_lượng chức_năng sẽ tiến_hành xử_phạt căn_cứ tại nghị_định nđcp chính_thức có hiệu_lực từ ngày cụ_thể như saumức xử_phạt đối_với người điều_khiển xe mô_tô xe_gắn_máy và các loại xe có kết_cấu tương_tự xe mô_tô xe_gắn_máy phạt đồng tước gplx tháng và tạm giữ phương_tiện ngày trong trường_hợp điều_khiển xe trên đường mà trong máu hoặc hơi thở có nồng_độ cồn vượt quá miligam đến miligam mililít máu hoặc vượt quá miligam đến miligam lít khí thở căn_cứ_điểm b khoản điểm b khoản điều và điểm b khoản điều nđ nđcptrong trường_hợp vi_phạm mà gây tai_nạn giao_thông thì bị tước giấy_phép lái_xe tháng điểm c khoản điều nđ nđcp phạt đồng tước gplx tháng và tạm giữ phương_tiện ngày trong trường_hợp điều_khiển xe trên đường mà trong máu hoặc hơi thở có nồng_độ cồn vượt quá miligam mililít máu hoặc vượt quá miligam lít khí thở căn_cứ_điểm e khoản điểm c khoản điều và điểm b khoản điều nđ nđcp phạt_tiền từ đồng đối_với hành_vi người điều_khiển xe mô_tô xe_gắn_máy và các loại xe tương_tự xe mô_tô xe_gắn_máy không chấp_hành yêu_cầu kiểm_tra nồng_độ cồn của người kiểm_soát giao_thông hoặc người thi_hành công_vụ căn_cứ_điểm b khoản điều nđ nđcpmức xử_phạt đối_với người điều_khiển xe ô_tô và các loại xe tương_tự xe ô_tô phạt_tiền từ đồng tước gplx tháng và tạm giữ phương_tiện ngày trong trường_hợp điều_khiển xe trên đường mà trong máu hoặc hơi thở có nồng_độ cồn nhưng chưa tới mức vi_phạm quy_định tại điểm b khoản điểm a khoản điều này căn_cứ_điểm b khoản điểm b khoản điều và điểm a khoản điều nđ nđcptrong trường_hợp vi_phạm mà gây tai_nạn giao_thông thì bị tước giấy_phép lái_xe tháng điểm c khoản điều nđ nđcp phạt_tiền từ đồng tước gplx tháng và tạm giữ phương_tiện ngày trong trường_hợp điều_khiển xe trên đường mà trong máu hoặc hơi thở có nồng_độ cồn vượt quá miligam đến miligam mililít máu hoặc vượt quá miligam đến miligam lít khí thở căn_cứ_điểm b khoản điểm c khoản điều và điểm a khoản điều nđ nđcp phạt_tiền từ đồng tước gplx tháng và tạm giữ phương_tiện ngày trong trường_hợp điều_khiển xe trên đường mà trong máu hoặc hơi thở có nồng_độ cồn vượt quá miligam mililít máu hoặc vượt quá miligam lít khí thở căn_cứ_điểm a khoản điểm c khoản và điểm a khoản điều nđ nđcp phạt_tiền từ đồng đối_với người điều_khiển xe ô_tô và các loại xe tương_tự xe ô_tô không chấp_hành yêu_cầu kiểm_tra nồng_độ cồn của người kiểm_soát giao_thông hoặc người thi_hành công_vụ căn_cứ_điểm b khoản điều nđ nđcpchiếc xe gây ra vụ tai_nạn khiến người tử_vong nguyên_nhân do tài_xế uống rượu trước khi cầm láinên có chế_tài gì mạnh hơn biện_pháp kiểm_soát quản_lý như thế_nào để giảm tình_trạng lái_xe uống bia rượubà trịnh_thị hằng ngavụ trưởng vụ pháp_chế bộ gtvtbà trịnh_thị hằng_nga vụ_trưởng vụ pháp_chế bộ gtvt trong các quy_định của pháp_luật đều có quy_định cấm lạm_dụng rượu_bia khi tham_gia giao_thông các quy_định chủ_yếu nằm trong các nghị_định trong lĩnh_vực văn_hóa an_ninh trật_tự nghị_định về xử_lý vi_phạm atgt tước gplx tùy trường hợpviệc làm dụng rượu_bia dẫn đến hiểm_họa khôn_lường về tngt như phó chủ_tịch chuyên_trách ủy_ban atgt quốc_gia và ông_thân văn thanh phó chủ_tịch hiệp_hội vận_tải ô_tô vừa nói đó là do phong_tục tập_quán thì không_thể cấm tuyệt_đối nhưng việc sử_dụng như thế_nào cho hợp_lý là điều cần bàntheo tôi điều quan_trọng nhất là phải phòng_ngừa để mọi người nhận ra tác_hại của rượu_bia chúng_ta sử_dụng các biện_pháp đồng_bộ nhưng nếu ý_thức của người sử_dụng không có chuyển_biến cũng không_thể ngăn_ngừa được trong quản_lý hiện_nay cũng có đề_án về ngăn_chặn phòng_ngừa lạm_dụng rượu_bia nhưng theo tôi tới đây cần có in thông_tin cảnh_báo trên bao_bì nhãn_mác rượu_bia như đối_với thuốc_lá đã làm hiện cũng đã có một_số loại rượu_bia được in cảnh báosắp tới sẽ có luật về việc lạm_dụng rượu_bia tôi được biết_việc kinh_doanh rượu đã có nghị_định và tiến tới sẽ có nghị_định về kinh_doanh bia các quy_định này hướng tới việc quy_định_lượng rượu_bia tối_đa được bán cho một khách_hàng tại chỗ đây là những giải_pháp đồng_bộ chứ không chỉ ở phạm_vi ngăn_chặn lái_xe sử_dụng rượu_bia như hiện naytheo ông cần có chế_tài gì mạnh hơn biện_pháp kiểm_soát quản_lý như thế_nào để phòng_chống tác_hại của bia rượuông nguyễn_văn_thuấnvụ trưởng vụ atgtông nguyễn_văn_thuấn vụ_trưởng vụ atgt bộ gtvt trong lĩnh_vực gtvt tôi cho rằng chúng_ta kiểm_soát ngăn_chặn tngt do rượu_bia mới làm được phần ngọn đó là trông_chờ vào csgt kiểm_tra xử_lý sau khi vi_phạm đã xảy ra rồi người điều_khiển phương_tiện đã uống rượu_bia đây là nhiệm_vụ cực_kỳ nặng_nề trong khi đó hiện_nay việc phân_phối bán rượu_bia rất phổ_biến ở quán nước quán ăn ven đường ở đâu cũng tiếp_cận được rượu_bia và sử_dụng thoải_mái tự_nhiên mà không bị kiểm_soát do_vậy tôi cho rằng muốn phòng_chống tác_hại của rượu_bia phải làm ngay từ gốc nghĩa_là làm thế_nào để người điều_khiển trước đó không sử_dụng rượu biahiện nay việc kiểm_soát rượu_bia khi tham_gia giao_thông chủ_yếu trông_chờ cả vào csgt dù nghị_định đã quy_định cảnh_sát trật tự lực_lượng phản_ứng nhanh đều dược xử_phạt bởi có thực_tế là máy đo nồng_độ cồn còn khan_hiếm khiến các lực_lượng này chưa được trang_bị do_đó khó thực_hiện phát_hiện và xử phạtngoài ra tỷ_lệ người điều kiển phương_tiện đa_phần đi_lại trong đường làng đường xã chúng_ta cần tuyên_truyền về tác_hại của rượu_bia và có thói_quen kiềm_chế trong tất_cả tình huốngnhư các bạn thấy ở các nước phát_triển khi bạn_bè đưa nhau đi ăn_uống người điều_khiển ô_tô không bao_giờ uống hiện_nay tại một_số dn vận_tải quan_tâm nâng cao chất_lượng phục_vụ hành_khách lái_xe cũng ý_thức được việc không uống rượu_bia lái_xe của các cơ_quan công_sở cũng chấp_hành tương_đối nghiêm_túc yêu_cầu này vấn_đề còn lại là ở những người sử_dụng phương_tiện cá_nhân bao_gồm cả sử_dụng xe ô_tô xe_máy rất khó kiểm_soát để hạn_chế tình_trạng này cần có sự phối_hợp của những người kinh_doanh rượu_bia thực_hiện nghiêm_túc quy_định về bán rượu_bia cho các đối_tượng không được phép trong đó có người tham_gia giao thôngvề chế_tài xử_phạt hiện chúng_ta đã có quy_định xử_phạt uống rượu_bia trong quá_trình điều_khiển phương_tiện trên cả lĩnh_vực đường_thủy đường_sắt đường_bộ đều có quy_định rõ việc xử_phạt riêng lĩnh_vực giao_thông đường_bộ mức xử_phạt thấp nhất triệu đồng thấp cao nhất đến triệu đồng với người lái_xe ô_tô vi_phạm là rất cao rồi vấn_đề còn lại là chúng_ta có kiểm_tra xử_phạt đến nơi đến chốn hay khôngvẫn để nổ máy lái và phụ xe_tải nhẹ này mỗi người uống cốc bia rồi nhanh_chóng đi tiếp chụp trước quán bia phố đường thành hoàn kiếm hà nộisố lượng bia rượu trên một đầu người ở vn hiện_nay là bao_nhiêu có quá cao so với các nước trên thế giớiông nguyễn_văn việtchủ tịch hiệp_hội bia rượu nước_giải_khát việt namông nguyễn_văn_việt chủ_tịch hiệp_hội bia rượu nước_giải_khát việt nam tôi khẳng_định là việt nam chúng_ta chỉ sử_dụng rượu_bia cũng ở mức trung_bình trên thế_giới hiện_nay nếu tính về bia trung_bình mỗi người sử_dụng từ lít một năm mỗi năm việt nam tiêu_thụ khoảng tỷ lít bia về rượu bình_quân mỗi năm tiêu_thụ khoảng triệu lít hoặc hơnsố này gồm cả rượu công_nghiệp nhập_khẩu và do người dân tự sản_xuất bình_quân mỗi người sử_dụng khoảng lít rượu một năm công cả bia và rượu mỗi năm một người dân việt nam sử_dụng lít con_số này thấp hơn các nước khu_vực như nhật bản lào campuchia thái lan đấy là các số_liệu do tổng_cục thống_kê cung_cấp nên hoàn_toàn thuyết_phục và có tính pháp lýđể sử_dụng rượu_bia hợp_lý không ảnh_hưởng đến sức_khỏe và an_toàn giao_thông chúng_ta cần nhiều giải_pháp trong đó có đẩy_mạnh việc tuyền truyền_giáo_dục chẳng_hạn như cuộc tọa_đàm hôm_nay rất có ý_nghĩa_hiệp_hội chúng tối cũng đã và sẽ có nhiều hoạt_động giải_pháp để tuyên_truyền về vấn_đề nàychẳng hạn như công_ty bia miền tây đã sản_xuất loại bia không cồn đây là loại bia không ảnh_hưởng gì đến lái_xe cho một bộ_phận người có_thể hạn_chế được việc uống bia đây là sản_phẩm rất mới việt nam là một trong những nước đi đầu trong sản_xuất loại bia này nhiều nước còn chưa là đượcông đánh_giá như thế_nào về văn_hóa uống bia rượu của người việt uống như vậy có văn_hóa chưa có ý_kiến là cấm bia rượu ý_kiến ông thế nàogs phan xuân biên nguyên trưởng_ban tư_tưởng văn_hóa thành_ủy tp hồ chí minhgs phan xuân biên nguyên trưởng_ban tư_tưởng văn_hóa thành_ủy tp hồ chí_minh bản_chất uống rượu_bia có_thể xem là hoạt_động hành_vi văn_hóa ngồi với bạn_bè mới uống chứ ít ai uống một mìnhông bà ta xưa nói trà tam rượu tứ nhưng hiện_nay nhiều lúc nhiều nơi uống bia rượu chưa thực_sự văn_hóa có người thi nhau uống uống cho đến lúc say_xỉn thậm_chí gây_gổ đánh nhau hậu_quả là khi quá chén tham_gia giao_thông còn gây thảm_họa về giao_thông đây là hành_vi vô văn_hóa ở đây không chỉ bia rượu không mà_còn là hiểu_biết về luật gtđb uống rượu_bia là văn_hóa nhưng uống thế_nào để cho có văn hóagần đây các phương_tiện truyền_thông đưa tin công_ty cp bia sài_gòn bình tây cho ra_mắt sản_phẩm mới là bia sagota không cồn xin ông cho biết vì_sao công_ty lại tiên_phong sản_xuất bia không cồn khi lợi_nhuận thấp hơn so với bia có cồn đối_tượng tiêu_dùng bia không cồn mà công_ty hướng tới là gì thưa ôngông văn thanh_liêm chủ_tịch hđqt công_ty cp bia sài_gòn bình tây với hiệp_hội rượu_bia nước_giải_khát sài_gòn đã rất nhiều lần xoay quanh vấn_đề ngày hôm_nay đặt ra chính vì vấn_đề này cùng_với sự chỉ_đạo của bộ công_thương hiệp_hội rượu_bia nước_giải_khát sài_gòn để ra sản_phẩm này thì giá rất cao vì còn phải tách cồn công_nghệ hoàn_toàn mớiông văn thanh liêmchủ tịch hđqt công_ty cp bia sài_gòn bình tâyqua nhiều công_đoạn mới cho ra được sản_phẩm bia sagota không cồn hiện_nay với mức giá_bán này để người tiêu_dùng tiếp_nhận là công_ty lỗ vì đóng thuế tiêu_thụ đặc_biệt như bia bình_thường nhưng đó là giải_pháp bảo_đảm sức_khỏe cho người tiêu_dùng sức_khỏe tốt tránh bạo_lực gia_đình hình_thành một nét văn_hóa trách_nhiệm khi uống rượu_bia sản_xuất loại bia này chỉ được triệu lít năm so với tổng_số tỷ lít bia có cồn của vnnăm là ít nhưng góp_phần đảm_bảo atgtchúng tôi rất vui vì nhận được sự ủng_hộ của đông_đảo người dân mọi giới lứa tuổi phụ_nữ uống bia này rất tốt nhất là phụ_nữ mới sinh_đẻ uống vào còn có nhiều sữa vì_thế ở sài_gòn còn có bác_sĩ nói rằng tắm cho trẻ sơ_sinh cũng rất tốt nhưng quan_trọng hơn cả là trong công_tác đảm_bảo atgt bởi chúng_ta thường dùng trong văn_hóa giao_thông cụm từ uống có trách_nhiệm người nước_ngoài rất quan_tâm đến vấn_đề này ví_dụ như ở đức người dân rất có trách_nhiệm đối_với hành_vi uống rượu biacần tuyên_truyền cho người dân uống một_cách có trách_nhiệm nếu không uống được thì uống bia không cồn rượu thì có lâu_đời nên quốc lủi tự nấu trong dân giờ không được xem là rượu sạch nên ảnh_hưởng lớn đến sức_khỏe cộng_đồng đây là một câu_chuyện dàigsts đinh văn_thuận có đánh_giá thế_nào về loại bia nàygsts đinh văn thuậnhiệu trưởng trường đại_học công_nghiệp vinhgsts đinh văn thuận hiệu_trưởng trường đại_học công_nghiệp vinh_bia không cồn thế_giới đã có hàng nhiều hàng thập_kỷ nay những loại đến độ thì được quy_định là bia không cồn bản_thân tôi đã thí_nghiệm uống lít một lúc vẫn không ảnh_hưởng mặc_dù tôi là vốn là người không uống được rượu biaở vn bia sagota là sản_phẩm bia không cồn đầu_tiên mới ra_đời được tháng công_nghệ sản_xuất bia không cồn có rất nhiều thế_giới có_thể sản_xuất bằng cách khống_chế quá_trình lên_men hoặc dùng men đặc_chủng còn công_ty cp bia sài_gòn bình tây lại dùng phương_pháp tách từ bia có cồn bằng áp_suất trên không trong điều_kiện nhiệt_độ thấp để đảm_bảo hương_vị màu_sắc chất_liệu giống bia có cồn nhưng uống không saynhưng khi uống bia không cồn vào ông có cảm_giác phấn_chấn như bia có cồn khônggsts đinh văn thuận tôi đã thử_nghiệm uống bia không cồn rất nhiều lonngày thấy rất phấn_chấn khỏe tiền_sử tôi có bệnh huyết_áp tim nhưng sau khi uống bia này thì khi kiểm_tra các chỉ_tiêu này đều giảm tôi chơi thể_thao khi uống bia không cồn có_thể không cần ăn trưa nhưng vẫn tràn_đầy năng_lượng đảm_bảo sức khỏemình phấn_chấn ở chỗ yêu vợ_con hơn yêu bản_thân hơn đấy là tác_dụng của bia không cồn uống bia này thì lít thổi vào máy kiểm_tra nồng_độ của công_an cũng không sao cảtừ tỷ_lệ vi_phạm của các lái_xe ông có_thể cho biết một_vài kinh_nghiệm và biện_pháp để khắc phụcông nguyễn_trọng_tháichánh văn_phòng ủy_ban atgt quốc giaông nguyễn_trọng_thái chánh văn_phòng ủy_ban atgt quốc_gia qua đánh_giá triển_khai dự_án ở hà nam ninh_bình bắc_ninh vĩnh_phúc và quảng_ninh và thanh_hóa nghệ an chúng_tôi thấy rằng tỷ_lệ vi_phạm của lái_xe chuyên_nghiệp như xe_khách xe_tải rất thấp chủ_yếu là vi_phạm của lái xe con xe cá_nhân và xe mô_tô còn cao trong các trường_hợp được kiểm_tra qua đó có_thể hướng vào các hoạt_động giải_pháp để khắc_phục hạn_chế tại các doanh_nghiệp vận_tải vẫn là cần_thiết vì đối_tượng này rất quan_trọng khi xảy ra tai_nạn gây hậu_quả rất lớn cần thực_hiện nhiều giải_pháp pháp kiên_trì đồng_bộ phân_công trách_nhiệm của các bộ ngành tổ_chức thực hiệnqua kinh_nghiệm triển_khai ở quảng_ninh công_tác chỉ_đạo cực_kỳ quan_trọng phó giám_đốc công_an tỉnh trực_tiếp chỉ_đạo chuyên_đề triển_khai bài_bản sau đó tổng cục_bộ công_an đã xây_dựng hướng_dẫn về kiểm_tra nồng_độ cồn theo kinh_nghiệm nước_ngoài được tổ_chức theo chuyên_đề và bố_trí lực_lượng phương_tiện rất nhiều người phương_tiện đầy_đủ kế_hoạch bài_bản khi được triển_khai có_thể kiểm_tra phát_hiện số_lượng người vi_phạm rất cao trong thời_gian ngắnviệc chống đối lực_lượng chức_năng thực_thi nhiệm_vụ xảy ra rất ít do các địa_phương huy_động nhiều lực_lượng có nhiều sáng_tạo ví_dụ đà nẵng bố_trí chốt kiểm_tra ngay tại trụ_sở công_an phường qua đây có_thể thấy công_tác chỉ_đạo là cực_kỳ_quan trọngviệc sản_xuất bia không cồn là sáng_tạo thể_hiện được nét văn_hóa trong ẩm_thực của vn những người có thói_quen sử_dụng bia rượu có giải_pháp cho riêng mình tạo ra cách uống mới có văn_hóa trong đội_ngũ người điều_khiển phương tiệnông trương ngọc thu phó tổng_giám_đốc cty vận_tải phương trangphương trang có quy_chế xử_lý thế_nào trong đội_ngũ lái_xe đặc_biệt là cấm tài_xế sử_dụng bia rượuông trương ngọc thu phó tổng_giám_đốc cty vận_tải phương trang phương trang có bảng nội_quy tài_xế bị cấm không được uống rượu_bia trước khi lên catrước khi lên ca thì giám_đốc các chi_nhánh kiểm_tra một tiếng nếu vi_phạm thì dù lần đầu thì cũng bị đuổi việc chưa có trường_hợp nào bị phát_hiện uống rượu khi lái xetheo ông việc xây_dựng văn_hóa sử_dụng rượu_bia nên được thực_hiện thế_nào hay vì lạm_dụng nên_chăng hướng tới sử_dụng rượu_bia không cồn ông nguyễn xuân_hải tgđ công_ty cp bia sài_gòn bình tây bia rượu đã được sử_dụng hàng ngàn năm nay và các nước cũng phải đối_mặt với tình_trạng lạm_dụng rượu_bia khi tham_gia giao_thông chứ không riêng vn bất_cứ biện_pháp gì cấm_đoán đều rất khó thực_thi như chính_sách cấm rượu tại mỹ ngathế nên theo tôi việc xây_dựng văn_hóa khi uống bia rượu rất quan_trọng tuyên_truyền liên_quan đến nhận_thức nên bắt_đầu từ khi con trẻ ngồi trên ghế nhà_trường trong gia_đình có nhiều trường_hợp bố đi uống rượu về con nhắc nhờ bố thấy ngạiông nguyễn_xuân hảitgđ công_ty cp bia sài_gòn bình tâymột vấn_đề nữa cần đặt ra là uống như thế_nào bia henken có nồng_độ cồn ghi rõ ta có_thể tự kiểm_soát được hay bia của chúng_tôi bia sagota không cồn uống lon tương_đương lon heniken hiện naybên cạnh đó phải hiểu được chuyển hóa của bia rượu trong cơ_thể nếu ta biết được cơ_địa khả_năng của ta tiếng lượng men gan chuyển hóa cân_bằng thì ta không bị nhiễm_độc andehit và nhiễm_độc cồn để không say xỉnhiện bộ tài_chính đánh_thuế bia rất cao không căn_cứ vào nồng_độ nên_chăng đánh_thuế tiêu_thụ trên nồng_độ cồn nghĩa_là càng uống nhiều anh càng phải trả nhiều tiền do_vậy vì kinh_tế anh sẽ phải uống ít đingoài ra ở các nước khi vi_phạm có chế_tài rất mạnh liên_quan đến hầu_bao và tôi cho rẳng chế_tài hiện_nay chưa đủ mức răn_đe cần nâng cao hơn nữa để người tham_gia giao_thông phải cân_nhắc khi uống rượu biacác giải_pháp để hạn_chế lái_xe sử_dụng rượu_bia khi điều_khiển phương_tiện tham_gia giao thôngthiếu tá huỳnh trung_phong phó trưởng_phòng csgt công_an tp hcm trên thực_tế cho thấy với nhiều biện_pháp tuyên_truyền hướng_dẫn giáo_dục pháp_luật thì phần_lớn người tham_gia giao_thông đều nhận_biết được điều_khiển phương_tiện sau khi sử_dụng rượu_bia là vi_phạm luật giao_thông đường_bộ nhưng thực_tế các trường_hợp vi_phạm quy_định này vẫn còn diễn ra có_thể do nhiều lý_do tuy_nhiên điều này cho thấy ý_thức chấp_hành pháp_luật giao_thông của một bộ_phận người dân chưa tốtdo vậy trong thời_gian tới cần phải tiếp_tục tăng_cường đẩy_mạnh công_tác tuyên_truyền pháp_luật về giao_thông đến cộng_đồng dân_cư trên địa_bàn thành_phố với nhiều hình_thức phong_phú đa_dạng như dán các khẩu_hiệu quy_định trên các bao_bì nhãn_hiệu vỏ_chai lon như đã uống rượu_bia thì không lái_xe lái_xe khi sử_dụng rượu_bia có_thể dẫn đến tngt dán băng rôn khẩu_hiệu về tác_hại của rượu_bia quy_định về xử_phạt về sử_dụng rượu_bia trên tất_cả các địa_điểm kinh_doanh có liên_quan rượu biavề phía lực_lượng csgt phòng csgt đbđs luôn xác_định bên cạnh việc phối_hợp với các cơ_quan ban_ngành đoàn_thể đẩy_mạnh công_tác tuyên_truyền thì việc tăng_cường công_tác tuần_tra kiểm_soát xử_lý vi_phạm của lực_lượng csgt là giải_pháp trọng_tâm thực_hiện xuyên suốt do_đó trong thời_gian tới ban chỉ phòng csgt đbđs thường_xuyên quán_triệt đến từng cán_bộ chiến sỹ csgt thực_hiện hiệu_quả công_tác xử_lý đối_với các trường_hợp vi_phạm quy_định này trong đó tập_trung triển_khai nhiều biện_pháp đồng_bộ như sau huy_động tối_đa các lực_lượng phối_hợp hỗ_trợ như cảnh_sát cơ_động cảnh_sát hình sựbố trí tổ chuyên_đề xử_lý nồng_độ cồn tập_trung vào thời_gian và các tuyến đường khu_vực tập_trung nhiều hàng_quán kinh_doanh rượu_bia và phức_tạp về trật_tự giao_thông phức_tạp về tình_hình tai_nạn giao_thông kết_hợp tổ_chức kiểm_tra hành_chính từ sau h đối_với tất_cả các đối_tượng có biểu_hiện nghi_vấn sử_dụng nồng_độ cồn áp_dụng việc thực_hiện kiểm_tra nồng_độ cồn đối_với người điều_khiển phương_tiện theo kinh nghiêm quốc tếthông qua buổi tọa_đàm này lực_lượng csgt chúng_tôi cũng gửi đến độc_giả thông điệpchấp hành luật giao_thông đường_bộ là bảo_vệ tính_mạng của chính mình cũng như là bảo_vệ tính_mạng sức_khỏe cho những người khác cùng tham giam gia giao_thông khi đã uống rượu_bia thì tuyệt_đối không điều_khiển phương_tiện bởi_vì đằng sau tay_lái của chúng_ta là hạnh_phúc gia đìnhcông ty ông sẽ đóng_góp gì trong việc chung tay xã_hội xây_dựng văn_hóa uống rượu biaông nguyễn xuân_hải ngoài việc tham_gia vào sản_xuất sản_phẩm mới không cồn vừa đáp_ứng yêu_cầu của người tiêu_dùng vừa góp_phần giảm tngt tới đây công_ty sẽ tổ_chức các chương_trình tuyên_truyền hướng_dẫn về uống rượu_bia khi tham_gia giao thôngchúng ta đã trao_đổi khá nhiều ý_kiến xung_quanh vấn_đề sử_dụng rượu_bia ông đánh_giá thế_nào về những điều này và trong thời_gian tới ủy_ban atgt quốc_gia có giải_pháp gì mới để ngăn_chặn tình_trạng lạm_dụng rượu_bia khi tham_gia giao thôngông khuất việt_hùng phó chủ_tịch chuyên_trách ủy_ban atgt qg chúng_ta cũng đã trao_đổi nhiều đến nay các quy_định phòng_chống lạm_dụng rượu_bia nói_chung và lạm_dụng rượu_bia khi điều_khiển phương_tiện tham_gia giao_thông đã tương_đối đày đủ dù đã có quy_định pháp_luật và đã triển_khai tuyên_truyền xử_lý vi_phạm nhưng đến nay tình_trạng lạm_dụng rượu_bia vẫn khá phức_tạp thời_gian tới chúng_tôi sẽ báo_cáo với lãnh_đạo ủy_ban atgt qg và chính_phủ để có giải_pháp thực_hiện nghiêm chính_sách quốc_gia về phòng_chống tác_hại của đồ_uống có cồn trước_tiên là phải hoàn_thiện các quy_định của pháp_luật để chặt_chẽ nghiêm_minh tôi mong_muốn dự_thảo luật về phòng_chống rượu_bia mà bộ y_tế soạn_thảo để báo_cáo chính_phủ trình quốc_hội xem_xét ban_hành cần có quy_định chặt_chẽ cụ_thể về sử_dụng rượu_bia trong đời_sống xã_hội là căn_cứ quan_trọng để hình_thành xây_dựng văn_hóa sử_dụng rượu biamột việc nữa cũng cần làm là hoàn_thiện bổ_sung nđ đã có các quy_định về kinh_doanh rượu_bia để siết chặt hơn điều_kiện kinh_doanh và có hướng_dẫn cụ_thể để triển_khai giám_sát của các doanh_nghiệp cơ_sở sản_xuất bên_cạnh đó phải tăng_cường truyền_thông để người dân biết_việc thực_thi nghị_định này ra_sao quản_lý kinh_doanh rượu_bia ra_sao việc thu_hồi giấy_phép kinh_doanh như thế_nào để mang lại hiệu_quả thiết_thực khi luật quản_lý kinh_doanh rươu bia được ban_hành việc quan_trọng nhất là quản_lý sản_xuất kinh_doanh tới đây ủy_ban atgt quốc_gia sẽ tập_huấn cho lực_lượng csgt toàn_quốc để triển_khai về quy_định mới nàytrọng tâm trong quý tới đây là phải triển_khai xử_lý vi_phạm nồng_độ cồn theo quy_định quốc_tế để xây_dựng cao_điểm trước tết_nguyên_đán nhằm bảo_đảm cho người dân một cái tết vui_tươi an toàntôi phải nói thêm rằng cái gốc của vấn_đề là phải xây_dựng văn_hóa rượu_bia sao cho đúng nếu trong gia_đình cha_mẹ nhắc_nhở con_cái anh_em nhắc nhau khi điều_khiển phương_tiện không sử_dụng rượu_bia thì sẽ có thay_đổi được nhiều về nhận_thức điều ấy cũng sẽ thành một nét đẹp trong văn_hóa ẩm_thực của vn ngược_lại nó sẽ hủy_hoại văn_hóa ẩm_thực ấychúng ta cần quyết_tâm kiên_trì thực_hiện khẩu_hiệu khi lái_xe không uống rượu_bia khẩu_hiệu các hãng rượu_bia ghi trên nhãn_mác hiện_nay còn quá nhỏ nên không gây được ấn_tượng với người sử_dụng trong thời_gian tới chúng_tôi sẽ đề_xuất sửa_đổi nđ hiệp_hội rượu_bia nước_giải_khát cần tiên_phong đi đầu thực_hiện việc in ấn khẩu_hiệu này để người uống rượu_bia trước khi bật lắp sẽ chú_ý đọc được khẩu_hiệu đó chúng_tôi hoan_nghênh hiệp_hội trong việc chung tay với ủy_ban atgt quốc_gia và các đơn_vị để xây_dựng được văn_hóa rượu_bia để làm_sao vẫn giữ được nét đẹp của người vn và hạn_chế được tình_trạng lạm_dụng rượu_bia khi lái_xe bảo_đảm an_toàn cho người dân và toàn xã hộibgt\n"
     ]
    }
   ],
   "source": [
    "max_length = num_words_df['num_words'].max()\n",
    "print(f\"The max length: {max_length}\")\n",
    "print(f\"The longest sentence:\\n{num_words_df['content'].loc[num_words_df['num_words'] == max_length].item()}\")"
   ]
  },
  {
   "cell_type": "code",
   "execution_count": 26,
   "id": "7054747c-746e-4828-8f73-8c7cd868966b",
   "metadata": {
    "tags": []
   },
   "outputs": [
    {
     "data": {
      "image/png": "[encoded data removed]",
      "text/plain": [
       "<Figure size 900x600 with 1 Axes>"
      ]
     },
     "metadata": {},
     "output_type": "display_data"
    }
   ],
   "source": [
    "plt.figure(figsize=(9, 6))\n",
    "plt.bar([cont[0:20] for cont in list(num_words_df['content'].iloc[:30])], list(num_words_df['num_words'].iloc[:30]));\n",
    "plt.xticks(rotation=90);\n",
    "plt.ylabel(\"Number of words each sentences\");"
   ]
  },
  {
   "cell_type": "code",
   "execution_count": 27,
   "id": "35fc9ad1-c4a7-4d57-8ec5-85ac260a6957",
   "metadata": {
    "tags": []
   },
   "outputs": [
    {
     "data": {
      "text/plain": [
       "count    50264.000000\n",
       "mean       422.030559\n",
       "std        321.332525\n",
       "min         51.000000\n",
       "25%        201.000000\n",
       "50%        327.000000\n",
       "75%        558.000000\n",
       "max       5728.000000\n",
       "Name: num_words, dtype: float64"
      ]
     },
     "execution_count": 27,
     "metadata": {},
     "output_type": "execute_result"
    }
   ],
   "source": [
    "num_words_df['num_words'].describe()"
   ]
  },
  {
   "cell_type": "markdown",
   "id": "2059e736",
   "metadata": {
    "tags": []
   },
   "source": [
    "### Remove sentences shorter than 50 words"
   ]
  },
  {
   "cell_type": "code",
   "execution_count": 28,
   "id": "90b043b0-095c-4239-a7f7-6a9c9ca2a870",
   "metadata": {
    "tags": []
   },
   "outputs": [],
   "source": [
    "clean_data = clean_data.drop(num_words_df['content'].loc[num_words_df['num_words'] <= 50].index)"
   ]
  },
  {
   "cell_type": "code",
   "execution_count": 29,
   "id": "6d44d436-003c-46d5-84ef-49531a2bb300",
   "metadata": {
    "tags": []
   },
   "outputs": [
    {
     "data": {
      "text/plain": [
       "(50264, 3)"
      ]
     },
     "execution_count": 29,
     "metadata": {},
     "output_type": "execute_result"
    }
   ],
   "source": [
    "clean_data.shape"
   ]
  },
  {
   "cell_type": "markdown",
   "id": "7082ea45-6313-48d1-9492-41a799be905c",
   "metadata": {},
   "source": [
    "#### 50 shortest sentences"
   ]
  },
  {
   "cell_type": "code",
   "execution_count": 30,
   "id": "404be36c",
   "metadata": {
    "scrolled": true,
    "tags": []
   },
   "outputs": [],
   "source": [
    "num_words_df['content'] = num_words_df['content'].apply(lambda x: x[0:20] + \"...\")"
   ]
  },
  {
   "cell_type": "code",
   "execution_count": 31,
   "id": "b5ed4688",
   "metadata": {
    "tags": []
   },
   "outputs": [],
   "source": [
    "num_words_df = num_words_df.drop(num_words_df['content'].loc[num_words_df['num_words'] <= 50].index)"
   ]
  },
  {
   "cell_type": "code",
   "execution_count": 32,
   "id": "f1b97096-1cd8-40b4-b723-2b7338844ad1",
   "metadata": {
    "tags": []
   },
   "outputs": [],
   "source": [
    "num_words_df_ascending = num_words_df.sort_values(by=['num_words'])"
   ]
  },
  {
   "cell_type": "code",
   "execution_count": 33,
   "id": "9f7dd255-7cad-4e3b-8633-62ba334caa25",
   "metadata": {
    "tags": []
   },
   "outputs": [
    {
     "data": {
      "text/html": [
       "<div>\n",
       "<style scoped>\n",
       "    .dataframe tbody tr th:only-of-type {\n",
       "        vertical-align: middle;\n",
       "    }\n",
       "\n",
       "    .dataframe tbody tr th {\n",
       "        vertical-align: top;\n",
       "    }\n",
       "\n",
       "    .dataframe thead th {\n",
       "        text-align: right;\n",
       "    }\n",
       "</style>\n",
       "<table border=\"1\" class=\"dataframe\">\n",
       "  <thead>\n",
       "    <tr style=\"text-align: right;\">\n",
       "      <th></th>\n",
       "      <th>content</th>\n",
       "      <th>num_words</th>\n",
       "    </tr>\n",
       "  </thead>\n",
       "  <tbody>\n",
       "    <tr>\n",
       "      <th>3128</th>\n",
       "      <td>từ lâu sofia jaramil...</td>\n",
       "      <td>51</td>\n",
       "    </tr>\n",
       "    <tr>\n",
       "      <th>37631</th>\n",
       "      <td>chương_trình có sự t...</td>\n",
       "      <td>51</td>\n",
       "    </tr>\n",
       "    <tr>\n",
       "      <th>46818</th>\n",
       "      <td>ngày do tức_giận thá...</td>\n",
       "      <td>51</td>\n",
       "    </tr>\n",
       "    <tr>\n",
       "      <th>15996</th>\n",
       "      <td>cứ mỗi dịp trung_thu...</td>\n",
       "      <td>51</td>\n",
       "    </tr>\n",
       "    <tr>\n",
       "      <th>30605</th>\n",
       "      <td>đại_tá nguyễn_văn_dự...</td>\n",
       "      <td>51</td>\n",
       "    </tr>\n",
       "  </tbody>\n",
       "</table>\n",
       "</div>"
      ],
      "text/plain": [
       "                       content  num_words\n",
       "3128   từ lâu sofia jaramil...         51\n",
       "37631  chương_trình có sự t...         51\n",
       "46818  ngày do tức_giận thá...         51\n",
       "15996  cứ mỗi dịp trung_thu...         51\n",
       "30605  đại_tá nguyễn_văn_dự...         51"
      ]
     },
     "execution_count": 33,
     "metadata": {},
     "output_type": "execute_result"
    }
   ],
   "source": [
    "num_words_df_ascending.head(5)"
   ]
  },
  {
   "cell_type": "markdown",
   "id": "2b1b9a93-a2dc-4a5e-88c1-f91cfe71c9b8",
   "metadata": {},
   "source": [
    "#### 50 longest sentences"
   ]
  },
  {
   "cell_type": "code",
   "execution_count": 34,
   "id": "70e40622-b2e0-4c28-9dd7-04c8aae47e8e",
   "metadata": {
    "tags": []
   },
   "outputs": [],
   "source": [
    "num_words_df_descending = num_words_df.sort_values(by=['num_words'], ascending=False)"
   ]
  },
  {
   "cell_type": "code",
   "execution_count": 35,
   "id": "4ee8d33a-7df2-414d-8b28-64563616f41c",
   "metadata": {
    "tags": []
   },
   "outputs": [
    {
     "data": {
      "text/html": [
       "<div>\n",
       "<style scoped>\n",
       "    .dataframe tbody tr th:only-of-type {\n",
       "        vertical-align: middle;\n",
       "    }\n",
       "\n",
       "    .dataframe tbody tr th {\n",
       "        vertical-align: top;\n",
       "    }\n",
       "\n",
       "    .dataframe thead th {\n",
       "        text-align: right;\n",
       "    }\n",
       "</style>\n",
       "<table border=\"1\" class=\"dataframe\">\n",
       "  <thead>\n",
       "    <tr style=\"text-align: right;\">\n",
       "      <th></th>\n",
       "      <th>content</th>\n",
       "      <th>num_words</th>\n",
       "    </tr>\n",
       "  </thead>\n",
       "  <tbody>\n",
       "    <tr>\n",
       "      <th>13546</th>\n",
       "      <td>sáng nay các khách_m...</td>\n",
       "      <td>5728</td>\n",
       "    </tr>\n",
       "    <tr>\n",
       "      <th>47132</th>\n",
       "      <td>một công_trình kiến_...</td>\n",
       "      <td>4865</td>\n",
       "    </tr>\n",
       "    <tr>\n",
       "      <th>12487</th>\n",
       "      <td>tcmt xin giới_thiệu ...</td>\n",
       "      <td>4499</td>\n",
       "    </tr>\n",
       "    <tr>\n",
       "      <th>5449</th>\n",
       "      <td>ủng_hộ tại nh vietco...</td>\n",
       "      <td>4210</td>\n",
       "    </tr>\n",
       "    <tr>\n",
       "      <th>6421</th>\n",
       "      <td>xin nhấn f để cập_nh...</td>\n",
       "      <td>3991</td>\n",
       "    </tr>\n",
       "  </tbody>\n",
       "</table>\n",
       "</div>"
      ],
      "text/plain": [
       "                       content  num_words\n",
       "13546  sáng nay các khách_m...       5728\n",
       "47132  một công_trình kiến_...       4865\n",
       "12487  tcmt xin giới_thiệu ...       4499\n",
       "5449   ủng_hộ tại nh vietco...       4210\n",
       "6421   xin nhấn f để cập_nh...       3991"
      ]
     },
     "execution_count": 35,
     "metadata": {},
     "output_type": "execute_result"
    }
   ],
   "source": [
    "num_words_df_descending.head(5)"
   ]
  },
  {
   "cell_type": "markdown",
   "id": "6d5e4ac1",
   "metadata": {},
   "source": [
    "# Exercise 1\n",
    "<p>We will crawl data from another website by bs4 api</p>\n",
    "<p>To calculate similarity between two vectors, we have more ways:</p>\n",
    "<ul>\n",
    "    <li>Cosine similarity</li>\n",
    "    <li>Eulid distance</li>\n",
    "    \n",
    "</ul>"
   ]
  },
  {
   "cell_type": "code",
   "execution_count": 36,
   "id": "f47c159c",
   "metadata": {
    "tags": []
   },
   "outputs": [],
   "source": [
    "req = requests.get(\"https://thanhnien.vn/xiaomi-ra-mat-loat-robot-hut-bui-moi-tai-viet-nam-185230316210636565.htm\")\n",
    "html_src = soup(req.text, \"html.parser\")\n",
    "main_content = html_src.find(\"div\", class_=\"detail-cmain\")\n",
    "pars = main_content.find_all(\"p\")\n",
    "X = \" \".join([cont.text for cont in pars])"
   ]
  },
  {
   "cell_type": "code",
   "execution_count": 37,
   "id": "718100fb",
   "metadata": {
    "scrolled": true,
    "tags": []
   },
   "outputs": [],
   "source": [
    "X = preprocessing(X)"
   ]
  },
  {
   "cell_type": "code",
   "execution_count": 38,
   "id": "d6ab6ac7",
   "metadata": {
    "collapsed": true,
    "jupyter": {
     "outputs_hidden": true
    },
    "tags": []
   },
   "outputs": [
    {
     "data": {
      "text/plain": [
       "'các mẫu robot hút bụi thông_minh thế_hệ mới được xiaomi giới_thiệu bao_gồm xiaomi robot vacuum x x plus s s plus và e loạt sản_phẩm này trang_bị nhiều tính_năng tự_động thông_minh sở_hữu quy_trình làm sạch trọn_vẹn nhanh_chóng và tối_ưu nhất từ bước lau sàn hút bụi đến tính_năng làm sạch hộp bụi đổ bụi giặt và sấy khô tấm lau sàn thậm_chí là tự_động thêm nước lau sàn theo tỷ_lệ thích_hợp các mẫu robot hút bụi mới của xiaomi đều trang_bị khả_năng lau nhà thông_minh xiaomi đầu_tiên là bộ đôi xiaomi robot vacuum x và x plus trong đó phiên_bản plus được tích_hợp hàng_loạt công_nghệ vượt_trội như hệ_thống cảm_biến tránh và nhận_biết chướng_ngại_vật d tiên_tiến scross ai chúng không chỉ làm sạch phòng mà_còn có_thể tự_động xả rác vào thùng tự thêm nước vào khay chứa trên robot và tự_động giặt tấm lau sàn rồi làm khô với lực hút lên đến pa bộ đôi robot hút bụi có_thể làm sạch mọi ngóc_ngách thu_dọn từng mảnh vụn và đánh_bật những vết bẩn cứng_đầu pin dung_lượng mah bên trong cho_phép máy hoạt_động liên_tục phút mới cần quay lại trạm sạc cả hai đều hỗ_trợ điều_khiển thông_qua ứng_dụng cài_đặt trên smartphone để giám_sát theo thời_gian thực thiết_lập bản_đồ tường ảo cũng như đặt lịch dọn_dẹp tích_hợp các cảm_biến và camera xiaomi cam_kết đảm_bảo quyền riêng_tư và an_ninh mạng cho người dùng với chứng_nhận của tüv rheinland x plus là bản robot hút_bụi cao_cấp nhất của xiaomi trong lần ra_mắt này xiaomi trong khi đó xiaomi robot vacuum s và s plus có khả_năng làm sạch thông_minh với công_nghệ điều hướng bằng cảm_biến khoảng_cách laser lds có_thể quét độ để nhanh_chóng xác_định môi_trường xung_quanh và thiết_lập bản_đồ chính_xác giúp tránh chướng_ngại_vật một_cách chính_xác máy có lực hút mạnh_mẽ lên đến pa cùng chế_độ cài_đặt dễ_dàng làm sạch mọi ngóc_ngách trong ngôi nhà pin dung_lượng đến mah cho_phép robot có_thể dọn_dẹp liên_tục trong giờ với các khu_vực rộng hơn m cuối_cùng là xiaomi robot vacuum e được thiết_kế để giải_quyết vấn_đề vệ_sinh trong ngôi nhà theo cách tối_ưu hướng đến sự đơn_giản nhưng hiệu_quả robot có khả_năng làm sạch mạnh_mẽ nhờ lực hút lên đến pa dễ_dàng làm sạch từ những hạt bụi nhỏ cho đến các mảnh vụn kết_hợp cùng khả_năng di_chuyển thông_minh thông_qua cảm_biến con quay hồi_chuyển e sẽ lập đường đi theo kiểu zíczắc để làm tăng hiệu_quả làm sạch tự_động dừng khi phát_hiện bậc cầu_thang hay dễ_dàng vượt qua các vật cản ít bị mắc_kẹt hơn e cho_phép chuyển_đổi linh_hoạt giữa chế_độ cũng như cấp_độ nước khác nhau để phù_hợp với từng loại sàn nhằm đảm_bảo làm sạch đồng_thời bảo_vệ sàn không bị ngấm nước với pin dung_lượng mah xiaomi robot vacuum e có_thể hoạt_động liên_tục trong phút ở chế_độ tiêu_chuẩn hút bụi và lau nhà hộp chứa rác thể_tích ml và khay đựng nước ml loạt robot hút bụi thông_minh thế_hệ mới sẽ được xiaomi cho ra_mắt tại thị_trường việt nam thông_qua các hệ_thống bán_lẻ vào ngày với giá đề_xuất từ triệu đồng e đến triệu đồng x plus riêng từ ngày khách_hàng khi đặt mua các sản_phẩm sẽ nhận được nhiều chương_trình khuyến_mãi với tổng trị_giá lên đến triệu đồng'"
      ]
     },
     "execution_count": 38,
     "metadata": {},
     "output_type": "execute_result"
    }
   ],
   "source": [
    "X"
   ]
  },
  {
   "cell_type": "markdown",
   "id": "095c3d50",
   "metadata": {
    "tags": []
   },
   "source": [
    "## Feature extraction"
   ]
  },
  {
   "cell_type": "markdown",
   "id": "5a80afde",
   "metadata": {},
   "source": [
    "* Count vectorizer"
   ]
  },
  {
   "cell_type": "code",
   "execution_count": 39,
   "id": "3ed236e2",
   "metadata": {
    "tags": []
   },
   "outputs": [],
   "source": [
    "cv = CountVectorizer()"
   ]
  },
  {
   "cell_type": "code",
   "execution_count": 40,
   "id": "2c09b9d8-5e77-4aba-9485-e5aa170fa5df",
   "metadata": {
    "tags": []
   },
   "outputs": [],
   "source": [
    "cv_feature = cv.fit_transform(clean_data['content'])"
   ]
  },
  {
   "cell_type": "code",
   "execution_count": 41,
   "id": "9c704d76-80ef-41b4-9797-5628be2da1fb",
   "metadata": {
    "tags": []
   },
   "outputs": [
    {
     "data": {
      "text/plain": [
       "(50264, 429159)"
      ]
     },
     "execution_count": 41,
     "metadata": {},
     "output_type": "execute_result"
    }
   ],
   "source": [
    "cv_feature.shape"
   ]
  },
  {
   "cell_type": "code",
   "execution_count": 42,
   "id": "0c8d290a-e267-4e1a-b325-9c220ba9329b",
   "metadata": {
    "tags": []
   },
   "outputs": [],
   "source": [
    "cv_feature_X = cv.transform([X])"
   ]
  },
  {
   "cell_type": "code",
   "execution_count": 43,
   "id": "f158f849-882a-4674-97b9-c8026f6d168d",
   "metadata": {
    "tags": []
   },
   "outputs": [
    {
     "data": {
      "text/plain": [
       "(1, 429159)"
      ]
     },
     "execution_count": 43,
     "metadata": {},
     "output_type": "execute_result"
    }
   ],
   "source": [
    "cv_feature_X.shape"
   ]
  },
  {
   "cell_type": "markdown",
   "id": "0fe8bf53",
   "metadata": {},
   "source": [
    "* TF-IDF"
   ]
  },
  {
   "cell_type": "code",
   "execution_count": 44,
   "id": "8d41dc7f",
   "metadata": {
    "tags": []
   },
   "outputs": [],
   "source": [
    "tfidf = TfidfVectorizer(smooth_idf=True, use_idf=True)"
   ]
  },
  {
   "cell_type": "code",
   "execution_count": 45,
   "id": "9b6f7bc7",
   "metadata": {
    "scrolled": true,
    "tags": []
   },
   "outputs": [],
   "source": [
    "tfidf_feature = tfidf.fit_transform(clean_data['content'])"
   ]
  },
  {
   "cell_type": "code",
   "execution_count": 46,
   "id": "4a6c4e73",
   "metadata": {
    "scrolled": true,
    "tags": []
   },
   "outputs": [
    {
     "data": {
      "text/plain": [
       "(50264, 429159)"
      ]
     },
     "execution_count": 46,
     "metadata": {},
     "output_type": "execute_result"
    }
   ],
   "source": [
    "tfidf_feature.shape"
   ]
  },
  {
   "cell_type": "code",
   "execution_count": 47,
   "id": "cdeccbe0",
   "metadata": {
    "tags": []
   },
   "outputs": [],
   "source": [
    "tfidf_feature_X = tfidf.transform([X])"
   ]
  },
  {
   "cell_type": "code",
   "execution_count": 48,
   "id": "13ca147e",
   "metadata": {
    "tags": []
   },
   "outputs": [
    {
     "data": {
      "text/plain": [
       "(1, 429159)"
      ]
     },
     "execution_count": 48,
     "metadata": {},
     "output_type": "execute_result"
    }
   ],
   "source": [
    "tfidf_feature_X.shape"
   ]
  },
  {
   "cell_type": "markdown",
   "id": "9529500f",
   "metadata": {},
   "source": [
    "## Cosine similarity\n",
    "* Count vectorizer"
   ]
  },
  {
   "cell_type": "code",
   "execution_count": 49,
   "id": "d677af7a",
   "metadata": {
    "tags": []
   },
   "outputs": [],
   "source": [
    "cv_cos_sims = []\n",
    "for i in range(clean_data.shape[0]):\n",
    "    cv_cos_sims.append(cosine_similarity(cv_feature_X[0], cv_feature[i]))"
   ]
  },
  {
   "cell_type": "code",
   "execution_count": 50,
   "id": "cb30f2ea",
   "metadata": {
    "tags": []
   },
   "outputs": [
    {
     "data": {
      "text/plain": [
       "array([[0.51212362]])"
      ]
     },
     "execution_count": 50,
     "metadata": {},
     "output_type": "execute_result"
    }
   ],
   "source": [
    "cv_cos_sims[np.argmax(cv_cos_sims)]"
   ]
  },
  {
   "cell_type": "code",
   "execution_count": 51,
   "id": "5df1d1fc",
   "metadata": {
    "scrolled": true,
    "tags": []
   },
   "outputs": [
    {
     "data": {
      "text/plain": [
       "'công_nghệ'"
      ]
     },
     "execution_count": 51,
     "metadata": {},
     "output_type": "execute_result"
    }
   ],
   "source": [
    "clean_data.category.iloc[np.argmax(cv_cos_sims)]"
   ]
  },
  {
   "cell_type": "code",
   "execution_count": 52,
   "id": "df545e5c",
   "metadata": {
    "tags": []
   },
   "outputs": [
    {
     "data": {
      "text/plain": [
       "'người máy pha cà_phê làm kemqq hôm đưa tin quán cà_phê mang tên dotcom space ở bắc kinh có hơn nhân_viên đa_phần là người_máy làm nhiệm_vụ pha cà_phê và làm kem cho khách_hàng đây là sản_phẩm của phòng_thí_nghiệm bubble lab thuộc công_ty dotcomngười máy tự_động pha cà phêsản phẩm tiêu_biểu của bubble lab là người_máy pha cà_phê bằng cánh_tay cơ_học kỹ_sư sáng_chế dùng máy quay_phim tốc_độ cao ghi lại động_tác pha cà_phê sau đó phân_tích và nhập số_liệu vào cánh_tay người_máy bằng cách này người_máy có_thể lặp lại hành_động của người pha tạo ra sản_phẩm trong thời_gian tương ứngngười máy làm kem do bubble lab sáng_chế sau khi khách_hàng chọn kem quét mã và trả tiền thông_qua màn_hình ipad cỗ máy sẽ tự_động làm_việc toàn_bộ quá_trình chỉ mất khoảng hai phút và không cần sức ngườimột sản_phẩm khác của bubble lab là vòi_nước thông_minh kết_nối phần ống nước phía dưới với ipad trên bàn người sử_dụng có_thể chọn nhiệt_độ và loại đồ_uống thích_hợp trên ipad sau khi rót đồ_uống khung đỡ ba_chân của vòi_nước thông_minh có_thể tự_động làm sạch phần ống bên trongrobot thay_thế con ngườitốc_độ phát_triển chóng_mặt của công_nghệ robot đã buộc các nhà_khoa_học đưa ra lời cảnh báotrong năm tới hầu_hết các công_việc hiện_tại của con_người sẽ được robot làm thay đó là những gì các chuyên_gia_thuộc đh rice mỹ cảnh_báo và rồi loài_người sẽ phải đối_mặt với một vấn_đề rất nan_giải đi tìm ý_nghĩa của cuộc_sống khi không còn phải làm_việc nữarobot sẽ thay_thế con_người trong năm tớicụ_thể hơn giáo_sư moshe vardi tại đh rice cho rằng trong vài thập_kỷ tới công_nhân_viên sẽ trở_nên rất rảnh_rỗi vì hầu_hết các ngành_nghề tầm trung sẽ sớm bị robot thay_thế và theo giáo_sư tỉ_lệ thất_nghiệp trên toàn thế_giới sẽ vượt quá một con_số khủng_khiếp chúng_ta đang tiếp_cận thời_kỳ máy_móc đủ khả_năng làm thay con_người gần như tất_cả mọi việc hiện_nay các robot đã có_thể làm tốt nhiều việc của con_người từ dược_sĩ gác_ngục chế_biến thực_phẩm pha_chế đồ uốnggiáo sư chia_sẻ tôi tin rằng xã_hội sẽ phải tìm ra câu trả_lời cho điều này nếu máy_móc làm_việc thay con_người vậy con_người sẽ làm gì lúc đó và liệu những gì công_nghệ đang làm có thực_sự tốt cho nhân loạicông nghệ robot và trí thông_minh nhân_tạo ai hiện_nay đã đủ khả_năng xóa_sổ rất nhiều ngành nghềví dụ như tháng trường đh công_nghệ nanyang singapore đã cho ra_đời nadine robot phụ_trách lễ_tân trong khu học xárobot nadine có mái_tóc dài mượt làn da mềm_mại có những cử_chỉ như con_người như cười giao_tiếp ánh mắt bắt_tay và thậm_chí có_thể nhớ được những vị khách đã từng ghé thăm có_thể nói nadine là robot giống người nhất từ trước đến nayhoặc như hãng hàng_không airbus kết_hợp cùng đh fankfurt đức cũng mới công_bố robot có khả_năng thay_thế con_người chế_tạo máy baytuy_nhiên giáo_sư vardi cho rằng điều này chưa chắc đã tốt cho nhân_loại theo ông việc robot thay_thế con_người sẽ giúp chúng_ta có nhiều thời_gian giải_trí hơn nhưng sẽ sớm làm thui_chột loài_người do không phải làm_việc và có quá nhiều thời_gian rảnh_rỗi sự_cố_gắng cạnh_tranh trong xã_hội sẽ không còn từ đó chúng_ta không_thể tiến_hóa cũng như không_thể đưa ra các bước đột_phá mới trong khoa họcvà thậm_chí trong viễn_cảnh xấu nhất_trí thông_minh nhân_tạo sẽ đạt đủ trí_khôn để tự mình vận_hành suy_nghĩ và thậm_chí là thống_trị loài ngườihiện nay robot chưa được phát_triển mạnh tuy_nhiên cũng có nhiều quốc_gia quan_tâm đến lĩnh_vực này robot có_thể thay chúng_ta làm các công_việc nặng_nhọc nguy_hiểm cho sức_khỏe chẳng_hạn như trong các nhà_máy hóa_chất nơi có nhiều chất phóng_xạ những dây_chuyền cần tự_động_hóa không_thể thiếu robot đặc_biệt robot có thế làm_việc liên_tục trong thời_gian dài với độ chính_xác và chuyên_nghiệp cao bởi_vì chúng chỉ làm_việc theo lập trìnhlê chính th'"
      ]
     },
     "execution_count": 52,
     "metadata": {},
     "output_type": "execute_result"
    }
   ],
   "source": [
    "clean_data['content'].iloc[np.argmax(cv_cos_sims)]"
   ]
  },
  {
   "cell_type": "markdown",
   "id": "0a62bd7b",
   "metadata": {},
   "source": [
    "* TF-IDF"
   ]
  },
  {
   "cell_type": "code",
   "execution_count": 53,
   "id": "219b5dc3",
   "metadata": {
    "tags": []
   },
   "outputs": [],
   "source": [
    "tfidf_cos_sims = []\n",
    "for i in range(clean_data.shape[0]):\n",
    "    tfidf_cos_sims.append(cosine_similarity(tfidf_feature_X, tfidf_feature[i]))"
   ]
  },
  {
   "cell_type": "code",
   "execution_count": 54,
   "id": "e7094d0c",
   "metadata": {
    "tags": []
   },
   "outputs": [
    {
     "data": {
      "text/plain": [
       "array([[0.39168459]])"
      ]
     },
     "execution_count": 54,
     "metadata": {},
     "output_type": "execute_result"
    }
   ],
   "source": [
    "tfidf_cos_sims[np.argmax(tfidf_cos_sims)]"
   ]
  },
  {
   "cell_type": "code",
   "execution_count": 55,
   "id": "08904d09",
   "metadata": {
    "tags": []
   },
   "outputs": [
    {
     "data": {
      "text/plain": [
       "'công_nghệ'"
      ]
     },
     "execution_count": 55,
     "metadata": {},
     "output_type": "execute_result"
    }
   ],
   "source": [
    "clean_data.category.iloc[np.argmax(tfidf_cos_sims)]"
   ]
  },
  {
   "cell_type": "code",
   "execution_count": 56,
   "id": "ef64ac54",
   "metadata": {
    "tags": []
   },
   "outputs": [
    {
     "data": {
      "text/plain": [
       "'sự tăng_trưởng của xiaomi trong năm vừa_qua được đánh_giá là không_tưởng khi hãng này đã đánh_bại bại gã khổng_lồ samsung tại sân nhà cũng như vươn lên trở_thành nhà_sản_xuất điện_thoại thông_minh lớn thứ trên thế_giới thậm_chí nó còn đe_dọa sẽ lấn_chiếm cả thị_trường smartphone của quả táo cắn dở applexiaomi đang vươn mình trở_thành thế_lực mới của làng công_nghệ thế giớiđiều này đã khiến các nhà_đầu_tư quốc_tế dồn tiền đầu_tư vào xiaomi bất_chấp hãng này còn khá non_trẻ khi mới chỉ thành_lập từ năm trước tỷ usd là số vốn huy_động được gần đây nhất của hãng theo tờ nhật_báo phố wall tiết_lộ từ đó đưa tổng giá_trị hiện_hành của xiaomi lên thành tỷ usd cao hơn cả uber netflix hay twitterđiều này đã chứng_tỏ dù vấp phải hàng_loạt scaldan về việc xâm_phạm thông_tin bảo_mật của người sử_dụng nhưng xiaomi vẫn đắt_hàng vì những điểm nổi_bật hơn hẳn so với các hãng smartphone khác trên thị trườnglựa chọn thị_trường và đối_tượng phù hợpxiaomi có lợi_thế trên sân_nhà khi ngay tại trung_quốc họ đã có_thể tiêu_thụ hàng trăm triệu sản_phẩm với dân_số thuộc hàng đông nhất thế_giới bên_cạnh đó apple trung_quốc đã tỏ ra khôn_ngoan khi tập_trung phát_triển thương_hiệu tại quốc_gia đông dân khác như ấn độ hay brazilxiaomi bắt_đầu được xếp vào hàng đại_gia di_động thế_giới quốc_gia khá đông dân này đang dần trở_thành khách_hàng chính của xiaomi khi họ nhận được rất nhiều chính_sách trợ_giá và khuyến_mãi hấp_dẫn từ hãng điện_thoại trung_quốc này đầu quý iv năm lượng đặt_hàng của xiaomi redmi note tại ấn độ đã lên đến con_số với giá chỉ hơn triệu đồng chiếc điện thoạiclip so_sánh điện_thoại của xiaomi với iphonevới sự lựa_chọn đối_tượng sử_dụng không giống như apple là các khách_hàng có tiền xiaomi chỉ tập_trung nhắm vào người có thu_nhập thấp và thanh_thiếu_niên có nhu_cầu mua smartphone với chất_lượng caocông nghệ và thiết_kế tuyệt vờicấu hình của các sản_phẩm xiaomi được đánh_giá tốt hơn so với những siêu_phẩm samsung galaxy note hay thậm_chí ngang_ngửa với note thậm_chí đại_diện của xiaomi khi phát_biểu về chiếc mi mới ra_mắt hồi tháng còn hùng_hồn tuyên_bố rằng sản_phẩm flagship này của hãng là chiếc điện_thoại chạy nhanh_nhất thế_giới với phần_cứng ấn_tượng bộ vi xử_lý quadcom snapdragon krait nhân với mỗi nhân có tốc_độ xung_nhịp ghz và ram gbcông nghệ và cấu_hình của xiaomi được đánh_giá khá caođiểm đặc_biệt của xiaomi là phần thiết_kế viền rất mỏng chỉ chiếm của chiếc điện_thoại các tín_đồ smartphone của thế_giới đang rất chú_ý đến xu_hướng này trong khi đó apple lại chưa thực_hiện được trên những siêu_phẩm iphone mới nhất của mìnhtrong tương_lai các nhà_sản_xuất còn đang muốn tạo thêm một hệ điều_hành mới thân_thiện với người dùng của xiaomi và sẽ còn tuyệt_vời hơn cả cách mà apple đã làm khi đối_đầu với symbianchính sách giá hấp dẫnkian kaur chuyên_viên phân_tích thị_trường cao_cấp tại idc cho rằng xiaomi đã quản_lý chi_phí của họ quá tốt và điều này đã mang lại cho họ rất nhiều ưu_thế trong việc cân_bằng giá cảđiện_thoại của xiaomi luôn có giá hấp_dẫn đối_với người muađiển hình là sản_phẩm mi của hãng giá_bán khi mới về việt nam chỉ vào khoảng triệu vnđ thấp hơn rất nhiều so với các model cao_cấp khác như samsung galaxy note htc one m hay iphone plushệ thống bán hàng online nhanh gọnxiaomi đã lập ra một diễn_đàn mà trong đó họ có_thể lắng_nghe trực_tiếp những ý_kiến hay phản_hồi của khách_hàng và nhanh_chóng cải_thiện chất_lượng dịch_vụ của mìnhxiaomi có hệ_thống bán hàng online nhanh gọnhệ thống bán hàng online của hãng này liên_tục được mở_rộng khi mới_đây đại_diện của xiaomi đã tuyên_bố họ sẽ tiến vào các thị_trường mới hơn như nga hay brazilmặc dù vậy con đường vươn lên cao hơn nữa của apple trung_quốc còn rất gập_ghềnh và nhiều khó_khăn đang chờ đón họ với cái bóng quá lớn của táo khuyết đang che_phủ hay những lùm xùm quanh thông_tin mi có cài_đặt phần_mềm gián điệpclip sạc pin điện_thoại trong vòng giâyhuyền trân tổng_hợp quý độc_giả bấm vào đây để gửi bình_luận'"
      ]
     },
     "execution_count": 56,
     "metadata": {},
     "output_type": "execute_result"
    }
   ],
   "source": [
    "clean_data['content'].iloc[np.argmax(tfidf_cos_sims)]"
   ]
  },
  {
   "cell_type": "markdown",
   "id": "9f1fb93d",
   "metadata": {},
   "source": [
    "## Euclidean distance"
   ]
  },
  {
   "cell_type": "markdown",
   "id": "cb90e856",
   "metadata": {},
   "source": [
    "* Count vectorizer"
   ]
  },
  {
   "cell_type": "code",
   "execution_count": 57,
   "id": "7e78b2bf",
   "metadata": {
    "tags": []
   },
   "outputs": [],
   "source": [
    "cv_el_sims = []\n",
    "for i in range(clean_data.shape[0]):\n",
    "    cv_el_sims.append(euclidean_distances(cv_feature_X, cv_feature[i]))"
   ]
  },
  {
   "cell_type": "code",
   "execution_count": 58,
   "id": "ab215c31",
   "metadata": {
    "tags": []
   },
   "outputs": [
    {
     "data": {
      "text/plain": [
       "array([[40.93897898]])"
      ]
     },
     "execution_count": 58,
     "metadata": {},
     "output_type": "execute_result"
    }
   ],
   "source": [
    "cv_el_sims[np.argmin(cv_el_sims)]"
   ]
  },
  {
   "cell_type": "code",
   "execution_count": 59,
   "id": "b9f1ab69",
   "metadata": {
    "tags": []
   },
   "outputs": [
    {
     "data": {
      "text/plain": [
       "'công_nghệ'"
      ]
     },
     "execution_count": 59,
     "metadata": {},
     "output_type": "execute_result"
    }
   ],
   "source": [
    "clean_data.category.iloc[np.argmin(cv_el_sims)]"
   ]
  },
  {
   "cell_type": "code",
   "execution_count": 60,
   "id": "cb35d585",
   "metadata": {
    "tags": []
   },
   "outputs": [
    {
     "data": {
      "text/plain": [
       "'nguồn getty imagestheo phóng_viên ttxvn tại bắc kinh ngày với hệ điều_hành ai dueros của baidu robot này có_thể giao_tiếp với người sử_dụng và trả_lời các câu hỏi của họ với độ chuẩn_xác caongoài ra nó còn có_thể thực_hiện được các nhiệm_vụ khác như giám_sát an_ninh và cung_cấp dịch_vụ giải_trí thông_qua một camera màn_hình và hộp âm thanhngười sử_dụng có_thể điều_khiển robot bằng điện_thoại thông_minh đặc_biệt những người bận_rộn có_thể sử_dụng con robot này để trông_nom người già và trẻ_em giao_tiếp với những người này trong thời_gian thực và giúp họ thư_giãn bằng những bài hát và câu_chuyện theo yêu cầuđược biết baidu đã và đang đầu_tư rất lớn vào công_nghệ và các ứng_dụng ai tháng vừa_qua đại_gia công_nghệ này của trung_quốc đã mua lại công_ty khởi_nghiệp trong lĩnh_vực nhà thông_minh raven techbaidu mới_đây cũng quyết_định chia_sẻ hệ_thống lái_xe tự_động với các đối_tác nhằm tạo ra cú hích mạnh_mẽ cho lĩnh_vực nàytheo phó chủ_tịch lục_kỳ trong thời_gian tới baidu sẽ đẩy_mạnh hoạt_động ứng_dụng ai để nâng_cấp các sản_phẩm hiện có và thúc_đẩy sự phát_triển của các sáng_kiến kinh_doanh mới dựa trên trí thông_minh nhân tạotheo ttxvn'"
      ]
     },
     "execution_count": 60,
     "metadata": {},
     "output_type": "execute_result"
    }
   ],
   "source": [
    "clean_data['content'].iloc[np.argmin(cv_el_sims)]"
   ]
  },
  {
   "cell_type": "markdown",
   "id": "c95358ae",
   "metadata": {},
   "source": [
    "* TF-IDF"
   ]
  },
  {
   "cell_type": "code",
   "execution_count": 61,
   "id": "e0914e48",
   "metadata": {
    "tags": []
   },
   "outputs": [],
   "source": [
    "tfidf_el_sims = []\n",
    "for i in range(clean_data.shape[0]):\n",
    "    tfidf_el_sims.append(euclidean_distances(tfidf_feature_X, tfidf_feature[i]))"
   ]
  },
  {
   "cell_type": "code",
   "execution_count": 62,
   "id": "9215f1ef",
   "metadata": {
    "tags": []
   },
   "outputs": [
    {
     "data": {
      "text/plain": [
       "array([[1.10300989]])"
      ]
     },
     "execution_count": 62,
     "metadata": {},
     "output_type": "execute_result"
    }
   ],
   "source": [
    "tfidf_el_sims[np.argmin(tfidf_el_sims)]"
   ]
  },
  {
   "cell_type": "code",
   "execution_count": 63,
   "id": "2699dbe5",
   "metadata": {
    "tags": []
   },
   "outputs": [
    {
     "data": {
      "text/plain": [
       "'công_nghệ'"
      ]
     },
     "execution_count": 63,
     "metadata": {},
     "output_type": "execute_result"
    }
   ],
   "source": [
    "clean_data.category.iloc[np.argmin(tfidf_el_sims)]"
   ]
  },
  {
   "cell_type": "code",
   "execution_count": 64,
   "id": "050a5388",
   "metadata": {
    "tags": []
   },
   "outputs": [
    {
     "data": {
      "text/plain": [
       "'sự tăng_trưởng của xiaomi trong năm vừa_qua được đánh_giá là không_tưởng khi hãng này đã đánh_bại bại gã khổng_lồ samsung tại sân nhà cũng như vươn lên trở_thành nhà_sản_xuất điện_thoại thông_minh lớn thứ trên thế_giới thậm_chí nó còn đe_dọa sẽ lấn_chiếm cả thị_trường smartphone của quả táo cắn dở applexiaomi đang vươn mình trở_thành thế_lực mới của làng công_nghệ thế giớiđiều này đã khiến các nhà_đầu_tư quốc_tế dồn tiền đầu_tư vào xiaomi bất_chấp hãng này còn khá non_trẻ khi mới chỉ thành_lập từ năm trước tỷ usd là số vốn huy_động được gần đây nhất của hãng theo tờ nhật_báo phố wall tiết_lộ từ đó đưa tổng giá_trị hiện_hành của xiaomi lên thành tỷ usd cao hơn cả uber netflix hay twitterđiều này đã chứng_tỏ dù vấp phải hàng_loạt scaldan về việc xâm_phạm thông_tin bảo_mật của người sử_dụng nhưng xiaomi vẫn đắt_hàng vì những điểm nổi_bật hơn hẳn so với các hãng smartphone khác trên thị trườnglựa chọn thị_trường và đối_tượng phù hợpxiaomi có lợi_thế trên sân_nhà khi ngay tại trung_quốc họ đã có_thể tiêu_thụ hàng trăm triệu sản_phẩm với dân_số thuộc hàng đông nhất thế_giới bên_cạnh đó apple trung_quốc đã tỏ ra khôn_ngoan khi tập_trung phát_triển thương_hiệu tại quốc_gia đông dân khác như ấn độ hay brazilxiaomi bắt_đầu được xếp vào hàng đại_gia di_động thế_giới quốc_gia khá đông dân này đang dần trở_thành khách_hàng chính của xiaomi khi họ nhận được rất nhiều chính_sách trợ_giá và khuyến_mãi hấp_dẫn từ hãng điện_thoại trung_quốc này đầu quý iv năm lượng đặt_hàng của xiaomi redmi note tại ấn độ đã lên đến con_số với giá chỉ hơn triệu đồng chiếc điện thoạiclip so_sánh điện_thoại của xiaomi với iphonevới sự lựa_chọn đối_tượng sử_dụng không giống như apple là các khách_hàng có tiền xiaomi chỉ tập_trung nhắm vào người có thu_nhập thấp và thanh_thiếu_niên có nhu_cầu mua smartphone với chất_lượng caocông nghệ và thiết_kế tuyệt vờicấu hình của các sản_phẩm xiaomi được đánh_giá tốt hơn so với những siêu_phẩm samsung galaxy note hay thậm_chí ngang_ngửa với note thậm_chí đại_diện của xiaomi khi phát_biểu về chiếc mi mới ra_mắt hồi tháng còn hùng_hồn tuyên_bố rằng sản_phẩm flagship này của hãng là chiếc điện_thoại chạy nhanh_nhất thế_giới với phần_cứng ấn_tượng bộ vi xử_lý quadcom snapdragon krait nhân với mỗi nhân có tốc_độ xung_nhịp ghz và ram gbcông nghệ và cấu_hình của xiaomi được đánh_giá khá caođiểm đặc_biệt của xiaomi là phần thiết_kế viền rất mỏng chỉ chiếm của chiếc điện_thoại các tín_đồ smartphone của thế_giới đang rất chú_ý đến xu_hướng này trong khi đó apple lại chưa thực_hiện được trên những siêu_phẩm iphone mới nhất của mìnhtrong tương_lai các nhà_sản_xuất còn đang muốn tạo thêm một hệ điều_hành mới thân_thiện với người dùng của xiaomi và sẽ còn tuyệt_vời hơn cả cách mà apple đã làm khi đối_đầu với symbianchính sách giá hấp dẫnkian kaur chuyên_viên phân_tích thị_trường cao_cấp tại idc cho rằng xiaomi đã quản_lý chi_phí của họ quá tốt và điều này đã mang lại cho họ rất nhiều ưu_thế trong việc cân_bằng giá cảđiện_thoại của xiaomi luôn có giá hấp_dẫn đối_với người muađiển hình là sản_phẩm mi của hãng giá_bán khi mới về việt nam chỉ vào khoảng triệu vnđ thấp hơn rất nhiều so với các model cao_cấp khác như samsung galaxy note htc one m hay iphone plushệ thống bán hàng online nhanh gọnxiaomi đã lập ra một diễn_đàn mà trong đó họ có_thể lắng_nghe trực_tiếp những ý_kiến hay phản_hồi của khách_hàng và nhanh_chóng cải_thiện chất_lượng dịch_vụ của mìnhxiaomi có hệ_thống bán hàng online nhanh gọnhệ thống bán hàng online của hãng này liên_tục được mở_rộng khi mới_đây đại_diện của xiaomi đã tuyên_bố họ sẽ tiến vào các thị_trường mới hơn như nga hay brazilmặc dù vậy con đường vươn lên cao hơn nữa của apple trung_quốc còn rất gập_ghềnh và nhiều khó_khăn đang chờ đón họ với cái bóng quá lớn của táo khuyết đang che_phủ hay những lùm xùm quanh thông_tin mi có cài_đặt phần_mềm gián điệpclip sạc pin điện_thoại trong vòng giâyhuyền trân tổng_hợp quý độc_giả bấm vào đây để gửi bình_luận'"
      ]
     },
     "execution_count": 64,
     "metadata": {},
     "output_type": "execute_result"
    }
   ],
   "source": [
    "clean_data['content'].iloc[np.argmin(tfidf_el_sims)]"
   ]
  },
  {
   "cell_type": "markdown",
   "id": "ce11fc7a",
   "metadata": {
    "tags": []
   },
   "source": [
    "# Exercise 2\n",
    "* KNN\n",
    "* SVM\n",
    "* Naive Bayes\n",
    "* Neural Network"
   ]
  },
  {
   "cell_type": "code",
   "execution_count": 65,
   "id": "893ce4e9",
   "metadata": {
    "tags": []
   },
   "outputs": [],
   "source": [
    "LE = LabelEncoder()\n",
    "clean_data['category'] = LE.fit_transform(clean_data['category'])"
   ]
  },
  {
   "cell_type": "code",
   "execution_count": 66,
   "id": "508a6fbb",
   "metadata": {
    "tags": []
   },
   "outputs": [
    {
     "data": {
      "text/plain": [
       "13"
      ]
     },
     "execution_count": 66,
     "metadata": {},
     "output_type": "execute_result"
    }
   ],
   "source": [
    "k = len(set(clean_data['category']))\n",
    "k"
   ]
  },
  {
   "cell_type": "code",
   "execution_count": 67,
   "id": "fb309010",
   "metadata": {
    "tags": []
   },
   "outputs": [],
   "source": [
    "y = clean_data['category']"
   ]
  },
  {
   "cell_type": "code",
   "execution_count": 68,
   "id": "6a80e1e9",
   "metadata": {
    "tags": []
   },
   "outputs": [],
   "source": [
    "cv_X_train, cv_X_test, cv_y_train, cv_y_test = train_test_split(cv_feature, y, train_size=0.8, random_state=128)"
   ]
  },
  {
   "cell_type": "code",
   "execution_count": 69,
   "id": "04b44388",
   "metadata": {
    "tags": []
   },
   "outputs": [
    {
     "name": "stdout",
     "output_type": "stream",
     "text": [
      "X_train size: (40211, 429159)\n",
      "X_test size: (10053, 429159)\n",
      "y_train size: (40211,)\n",
      "y_test size: (10053,)\n"
     ]
    }
   ],
   "source": [
    "print(f\"X_train size: {cv_X_train.shape}\")\n",
    "print(f\"X_test size: {cv_X_test.shape}\")\n",
    "print(f\"y_train size: {cv_y_train.shape}\")\n",
    "print(f\"y_test size: {cv_y_test.shape}\")"
   ]
  },
  {
   "cell_type": "code",
   "execution_count": 70,
   "id": "04623794",
   "metadata": {
    "tags": []
   },
   "outputs": [],
   "source": [
    "tfidf_X_train, tfidf_X_test, tfidf_y_train, tfidf_y_test = train_test_split(tfidf_feature, y, train_size=0.8, random_state=128)"
   ]
  },
  {
   "cell_type": "code",
   "execution_count": 71,
   "id": "5930933d",
   "metadata": {
    "tags": []
   },
   "outputs": [
    {
     "name": "stdout",
     "output_type": "stream",
     "text": [
      "X_train size: (40211, 429159)\n",
      "X_test size: (10053, 429159)\n",
      "y_train size: (40211,)\n",
      "y_test size: (10053,)\n"
     ]
    }
   ],
   "source": [
    "print(f\"X_train size: {tfidf_X_train.shape}\")\n",
    "print(f\"X_test size: {tfidf_X_test.shape}\")\n",
    "print(f\"y_train size: {tfidf_y_train.shape}\")\n",
    "print(f\"y_test size: {tfidf_y_test.shape}\")"
   ]
  },
  {
   "cell_type": "markdown",
   "id": "21af4187-cb08-470f-a7a2-b2b3ecb58a1e",
   "metadata": {},
   "source": [
    "## KNN"
   ]
  },
  {
   "cell_type": "markdown",
   "id": "61a2dabd",
   "metadata": {},
   "source": [
    "### KNN with count vectorizer"
   ]
  },
  {
   "cell_type": "code",
   "execution_count": 72,
   "id": "60cba0cb",
   "metadata": {
    "tags": []
   },
   "outputs": [],
   "source": [
    "knn_model = KNeighborsClassifier(n_neighbors=k)"
   ]
  },
  {
   "cell_type": "code",
   "execution_count": 73,
   "id": "484c30dc",
   "metadata": {
    "tags": []
   },
   "outputs": [
    {
     "data": {
      "text/html": [
       "<style>#sk-container-id-1 {color: black;background-color: white;}#sk-container-id-1 pre{padding: 0;}#sk-container-id-1 div.sk-toggleable {background-color: white;}#sk-container-id-1 label.sk-toggleable__label {cursor: pointer;display: block;width: 100%;margin-bottom: 0;padding: 0.3em;box-sizing: border-box;text-align: center;}#sk-container-id-1 label.sk-toggleable__label-arrow:before {content: \"▸\";float: left;margin-right: 0.25em;color: #696969;}#sk-container-id-1 label.sk-toggleable__label-arrow:hover:before {color: black;}#sk-container-id-1 div.sk-estimator:hover label.sk-toggleable__label-arrow:before {color: black;}#sk-container-id-1 div.sk-toggleable__content {max-height: 0;max-width: 0;overflow: hidden;text-align: left;background-color: #f0f8ff;}#sk-container-id-1 div.sk-toggleable__content pre {margin: 0.2em;color: black;border-radius: 0.25em;background-color: #f0f8ff;}#sk-container-id-1 input.sk-toggleable__control:checked~div.sk-toggleable__content {max-height: 200px;max-width: 100%;overflow: auto;}#sk-container-id-1 input.sk-toggleable__control:checked~label.sk-toggleable__label-arrow:before {content: \"▾\";}#sk-container-id-1 div.sk-estimator input.sk-toggleable__control:checked~label.sk-toggleable__label {background-color: #d4ebff;}#sk-container-id-1 div.sk-label input.sk-toggleable__control:checked~label.sk-toggleable__label {background-color: #d4ebff;}#sk-container-id-1 input.sk-hidden--visually {border: 0;clip: rect(1px 1px 1px 1px);clip: rect(1px, 1px, 1px, 1px);height: 1px;margin: -1px;overflow: hidden;padding: 0;position: absolute;width: 1px;}#sk-container-id-1 div.sk-estimator {font-family: monospace;background-color: #f0f8ff;border: 1px dotted black;border-radius: 0.25em;box-sizing: border-box;margin-bottom: 0.5em;}#sk-container-id-1 div.sk-estimator:hover {background-color: #d4ebff;}#sk-container-id-1 div.sk-parallel-item::after {content: \"\";width: 100%;border-bottom: 1px solid gray;flex-grow: 1;}#sk-container-id-1 div.sk-label:hover label.sk-toggleable__label {background-color: #d4ebff;}#sk-container-id-1 div.sk-serial::before {content: \"\";position: absolute;border-left: 1px solid gray;box-sizing: border-box;top: 0;bottom: 0;left: 50%;z-index: 0;}#sk-container-id-1 div.sk-serial {display: flex;flex-direction: column;align-items: center;background-color: white;padding-right: 0.2em;padding-left: 0.2em;position: relative;}#sk-container-id-1 div.sk-item {position: relative;z-index: 1;}#sk-container-id-1 div.sk-parallel {display: flex;align-items: stretch;justify-content: center;background-color: white;position: relative;}#sk-container-id-1 div.sk-item::before, #sk-container-id-1 div.sk-parallel-item::before {content: \"\";position: absolute;border-left: 1px solid gray;box-sizing: border-box;top: 0;bottom: 0;left: 50%;z-index: -1;}#sk-container-id-1 div.sk-parallel-item {display: flex;flex-direction: column;z-index: 1;position: relative;background-color: white;}#sk-container-id-1 div.sk-parallel-item:first-child::after {align-self: flex-end;width: 50%;}#sk-container-id-1 div.sk-parallel-item:last-child::after {align-self: flex-start;width: 50%;}#sk-container-id-1 div.sk-parallel-item:only-child::after {width: 0;}#sk-container-id-1 div.sk-dashed-wrapped {border: 1px dashed gray;margin: 0 0.4em 0.5em 0.4em;box-sizing: border-box;padding-bottom: 0.4em;background-color: white;}#sk-container-id-1 div.sk-label label {font-family: monospace;font-weight: bold;display: inline-block;line-height: 1.2em;}#sk-container-id-1 div.sk-label-container {text-align: center;}#sk-container-id-1 div.sk-container {/* jupyter's `normalize.less` sets `[hidden] { display: none; }` but bootstrap.min.css set `[hidden] { display: none !important; }` so we also need the `!important` here to be able to override the default hidden behavior on the sphinx rendered scikit-learn.org. See: https://github.com/scikit-learn/scikit-learn/issues/21755 */display: inline-block !important;position: relative;}#sk-container-id-1 div.sk-text-repr-fallback {display: none;}</style><div id=\"sk-container-id-1\" class=\"sk-top-container\"><div class=\"sk-text-repr-fallback\"><pre>KNeighborsClassifier(n_neighbors=13)</pre><b>In a Jupyter environment, please rerun this cell to show the HTML representation or trust the notebook. <br />On GitHub, the HTML representation is unable to render, please try loading this page with nbviewer.org.</b></div><div class=\"sk-container\" hidden><div class=\"sk-item\"><div class=\"sk-estimator sk-toggleable\"><input class=\"sk-toggleable__control sk-hidden--visually\" id=\"sk-estimator-id-1\" type=\"checkbox\" checked><label for=\"sk-estimator-id-1\" class=\"sk-toggleable__label sk-toggleable__label-arrow\">KNeighborsClassifier</label><div class=\"sk-toggleable__content\"><pre>KNeighborsClassifier(n_neighbors=13)</pre></div></div></div></div></div>"
      ],
      "text/plain": [
       "KNeighborsClassifier(n_neighbors=13)"
      ]
     },
     "execution_count": 73,
     "metadata": {},
     "output_type": "execute_result"
    }
   ],
   "source": [
    "knn_model.fit(cv_X_train, cv_y_train)"
   ]
  },
  {
   "cell_type": "code",
   "execution_count": 74,
   "id": "03b581ec",
   "metadata": {
    "tags": []
   },
   "outputs": [],
   "source": [
    "knn_y_predict = knn_model.predict(cv_X_test)"
   ]
  },
  {
   "cell_type": "code",
   "execution_count": 75,
   "id": "0d4ee6c5",
   "metadata": {
    "tags": []
   },
   "outputs": [
    {
     "name": "stdout",
     "output_type": "stream",
     "text": [
      "              precision    recall  f1-score   support\n",
      "\n",
      "           0       0.70      0.66      0.68       779\n",
      "           1       0.73      0.83      0.77       819\n",
      "           2       0.57      0.79      0.66       777\n",
      "           3       0.61      0.68      0.64       777\n",
      "           4       0.72      0.62      0.67       773\n",
      "           5       0.71      0.73      0.72       806\n",
      "           6       0.71      0.61      0.66       750\n",
      "           7       0.60      0.85      0.71       782\n",
      "           8       0.87      0.88      0.87       743\n",
      "           9       0.64      0.42      0.51       777\n",
      "          10       0.87      0.84      0.86       740\n",
      "          11       0.70      0.52      0.60       761\n",
      "          12       0.72      0.63      0.67       769\n",
      "\n",
      "    accuracy                           0.70     10053\n",
      "   macro avg       0.70      0.70      0.69     10053\n",
      "weighted avg       0.70      0.70      0.69     10053\n",
      "\n"
     ]
    }
   ],
   "source": [
    "print(classification_report(y_true=cv_y_test, y_pred=knn_y_predict))"
   ]
  },
  {
   "cell_type": "markdown",
   "id": "34ecfe64",
   "metadata": {},
   "source": [
    "### KNN with TF-IDF"
   ]
  },
  {
   "cell_type": "code",
   "execution_count": 76,
   "id": "9a960b16",
   "metadata": {
    "tags": []
   },
   "outputs": [],
   "source": [
    "knn_model_tfidf = KNeighborsClassifier(n_neighbors=k)"
   ]
  },
  {
   "cell_type": "code",
   "execution_count": 77,
   "id": "a1c0ee87",
   "metadata": {
    "tags": []
   },
   "outputs": [
    {
     "data": {
      "text/html": [
       "<style>#sk-container-id-2 {color: black;background-color: white;}#sk-container-id-2 pre{padding: 0;}#sk-container-id-2 div.sk-toggleable {background-color: white;}#sk-container-id-2 label.sk-toggleable__label {cursor: pointer;display: block;width: 100%;margin-bottom: 0;padding: 0.3em;box-sizing: border-box;text-align: center;}#sk-container-id-2 label.sk-toggleable__label-arrow:before {content: \"▸\";float: left;margin-right: 0.25em;color: #696969;}#sk-container-id-2 label.sk-toggleable__label-arrow:hover:before {color: black;}#sk-container-id-2 div.sk-estimator:hover label.sk-toggleable__label-arrow:before {color: black;}#sk-container-id-2 div.sk-toggleable__content {max-height: 0;max-width: 0;overflow: hidden;text-align: left;background-color: #f0f8ff;}#sk-container-id-2 div.sk-toggleable__content pre {margin: 0.2em;color: black;border-radius: 0.25em;background-color: #f0f8ff;}#sk-container-id-2 input.sk-toggleable__control:checked~div.sk-toggleable__content {max-height: 200px;max-width: 100%;overflow: auto;}#sk-container-id-2 input.sk-toggleable__control:checked~label.sk-toggleable__label-arrow:before {content: \"▾\";}#sk-container-id-2 div.sk-estimator input.sk-toggleable__control:checked~label.sk-toggleable__label {background-color: #d4ebff;}#sk-container-id-2 div.sk-label input.sk-toggleable__control:checked~label.sk-toggleable__label {background-color: #d4ebff;}#sk-container-id-2 input.sk-hidden--visually {border: 0;clip: rect(1px 1px 1px 1px);clip: rect(1px, 1px, 1px, 1px);height: 1px;margin: -1px;overflow: hidden;padding: 0;position: absolute;width: 1px;}#sk-container-id-2 div.sk-estimator {font-family: monospace;background-color: #f0f8ff;border: 1px dotted black;border-radius: 0.25em;box-sizing: border-box;margin-bottom: 0.5em;}#sk-container-id-2 div.sk-estimator:hover {background-color: #d4ebff;}#sk-container-id-2 div.sk-parallel-item::after {content: \"\";width: 100%;border-bottom: 1px solid gray;flex-grow: 1;}#sk-container-id-2 div.sk-label:hover label.sk-toggleable__label {background-color: #d4ebff;}#sk-container-id-2 div.sk-serial::before {content: \"\";position: absolute;border-left: 1px solid gray;box-sizing: border-box;top: 0;bottom: 0;left: 50%;z-index: 0;}#sk-container-id-2 div.sk-serial {display: flex;flex-direction: column;align-items: center;background-color: white;padding-right: 0.2em;padding-left: 0.2em;position: relative;}#sk-container-id-2 div.sk-item {position: relative;z-index: 1;}#sk-container-id-2 div.sk-parallel {display: flex;align-items: stretch;justify-content: center;background-color: white;position: relative;}#sk-container-id-2 div.sk-item::before, #sk-container-id-2 div.sk-parallel-item::before {content: \"\";position: absolute;border-left: 1px solid gray;box-sizing: border-box;top: 0;bottom: 0;left: 50%;z-index: -1;}#sk-container-id-2 div.sk-parallel-item {display: flex;flex-direction: column;z-index: 1;position: relative;background-color: white;}#sk-container-id-2 div.sk-parallel-item:first-child::after {align-self: flex-end;width: 50%;}#sk-container-id-2 div.sk-parallel-item:last-child::after {align-self: flex-start;width: 50%;}#sk-container-id-2 div.sk-parallel-item:only-child::after {width: 0;}#sk-container-id-2 div.sk-dashed-wrapped {border: 1px dashed gray;margin: 0 0.4em 0.5em 0.4em;box-sizing: border-box;padding-bottom: 0.4em;background-color: white;}#sk-container-id-2 div.sk-label label {font-family: monospace;font-weight: bold;display: inline-block;line-height: 1.2em;}#sk-container-id-2 div.sk-label-container {text-align: center;}#sk-container-id-2 div.sk-container {/* jupyter's `normalize.less` sets `[hidden] { display: none; }` but bootstrap.min.css set `[hidden] { display: none !important; }` so we also need the `!important` here to be able to override the default hidden behavior on the sphinx rendered scikit-learn.org. See: https://github.com/scikit-learn/scikit-learn/issues/21755 */display: inline-block !important;position: relative;}#sk-container-id-2 div.sk-text-repr-fallback {display: none;}</style><div id=\"sk-container-id-2\" class=\"sk-top-container\"><div class=\"sk-text-repr-fallback\"><pre>KNeighborsClassifier(n_neighbors=13)</pre><b>In a Jupyter environment, please rerun this cell to show the HTML representation or trust the notebook. <br />On GitHub, the HTML representation is unable to render, please try loading this page with nbviewer.org.</b></div><div class=\"sk-container\" hidden><div class=\"sk-item\"><div class=\"sk-estimator sk-toggleable\"><input class=\"sk-toggleable__control sk-hidden--visually\" id=\"sk-estimator-id-2\" type=\"checkbox\" checked><label for=\"sk-estimator-id-2\" class=\"sk-toggleable__label sk-toggleable__label-arrow\">KNeighborsClassifier</label><div class=\"sk-toggleable__content\"><pre>KNeighborsClassifier(n_neighbors=13)</pre></div></div></div></div></div>"
      ],
      "text/plain": [
       "KNeighborsClassifier(n_neighbors=13)"
      ]
     },
     "execution_count": 77,
     "metadata": {},
     "output_type": "execute_result"
    }
   ],
   "source": [
    "knn_model_tfidf.fit(tfidf_X_train, tfidf_y_train)"
   ]
  },
  {
   "cell_type": "code",
   "execution_count": 78,
   "id": "d0eed345",
   "metadata": {
    "tags": []
   },
   "outputs": [],
   "source": [
    "knn_y_predict_tfidf = knn_model_tfidf.predict(tfidf_X_test)"
   ]
  },
  {
   "cell_type": "code",
   "execution_count": 79,
   "id": "17c31115",
   "metadata": {
    "tags": []
   },
   "outputs": [
    {
     "name": "stdout",
     "output_type": "stream",
     "text": [
      "              precision    recall  f1-score   support\n",
      "\n",
      "           0       0.82      0.77      0.79       779\n",
      "           1       0.87      0.85      0.86       819\n",
      "           2       0.79      0.76      0.78       777\n",
      "           3       0.75      0.71      0.73       777\n",
      "           4       0.70      0.73      0.72       773\n",
      "           5       0.73      0.82      0.77       806\n",
      "           6       0.77      0.59      0.67       750\n",
      "           7       0.80      0.82      0.81       782\n",
      "           8       0.95      0.96      0.95       743\n",
      "           9       0.68      0.61      0.64       777\n",
      "          10       0.88      0.89      0.89       740\n",
      "          11       0.69      0.62      0.66       761\n",
      "          12       0.61      0.85      0.71       769\n",
      "\n",
      "    accuracy                           0.77     10053\n",
      "   macro avg       0.77      0.77      0.77     10053\n",
      "weighted avg       0.77      0.77      0.77     10053\n",
      "\n"
     ]
    }
   ],
   "source": [
    "print(classification_report(y_true=tfidf_y_test, y_pred=knn_y_predict_tfidf))"
   ]
  },
  {
   "cell_type": "markdown",
   "id": "5a800453-ccbd-4133-94b2-bcab763394ef",
   "metadata": {},
   "source": [
    "## SVM"
   ]
  },
  {
   "cell_type": "code",
   "execution_count": 80,
   "id": "3652f3d6-a35e-4feb-acff-dc0d8ee76744",
   "metadata": {
    "tags": []
   },
   "outputs": [
    {
     "data": {
      "text/html": [
       "<style>#sk-container-id-3 {color: black;background-color: white;}#sk-container-id-3 pre{padding: 0;}#sk-container-id-3 div.sk-toggleable {background-color: white;}#sk-container-id-3 label.sk-toggleable__label {cursor: pointer;display: block;width: 100%;margin-bottom: 0;padding: 0.3em;box-sizing: border-box;text-align: center;}#sk-container-id-3 label.sk-toggleable__label-arrow:before {content: \"▸\";float: left;margin-right: 0.25em;color: #696969;}#sk-container-id-3 label.sk-toggleable__label-arrow:hover:before {color: black;}#sk-container-id-3 div.sk-estimator:hover label.sk-toggleable__label-arrow:before {color: black;}#sk-container-id-3 div.sk-toggleable__content {max-height: 0;max-width: 0;overflow: hidden;text-align: left;background-color: #f0f8ff;}#sk-container-id-3 div.sk-toggleable__content pre {margin: 0.2em;color: black;border-radius: 0.25em;background-color: #f0f8ff;}#sk-container-id-3 input.sk-toggleable__control:checked~div.sk-toggleable__content {max-height: 200px;max-width: 100%;overflow: auto;}#sk-container-id-3 input.sk-toggleable__control:checked~label.sk-toggleable__label-arrow:before {content: \"▾\";}#sk-container-id-3 div.sk-estimator input.sk-toggleable__control:checked~label.sk-toggleable__label {background-color: #d4ebff;}#sk-container-id-3 div.sk-label input.sk-toggleable__control:checked~label.sk-toggleable__label {background-color: #d4ebff;}#sk-container-id-3 input.sk-hidden--visually {border: 0;clip: rect(1px 1px 1px 1px);clip: rect(1px, 1px, 1px, 1px);height: 1px;margin: -1px;overflow: hidden;padding: 0;position: absolute;width: 1px;}#sk-container-id-3 div.sk-estimator {font-family: monospace;background-color: #f0f8ff;border: 1px dotted black;border-radius: 0.25em;box-sizing: border-box;margin-bottom: 0.5em;}#sk-container-id-3 div.sk-estimator:hover {background-color: #d4ebff;}#sk-container-id-3 div.sk-parallel-item::after {content: \"\";width: 100%;border-bottom: 1px solid gray;flex-grow: 1;}#sk-container-id-3 div.sk-label:hover label.sk-toggleable__label {background-color: #d4ebff;}#sk-container-id-3 div.sk-serial::before {content: \"\";position: absolute;border-left: 1px solid gray;box-sizing: border-box;top: 0;bottom: 0;left: 50%;z-index: 0;}#sk-container-id-3 div.sk-serial {display: flex;flex-direction: column;align-items: center;background-color: white;padding-right: 0.2em;padding-left: 0.2em;position: relative;}#sk-container-id-3 div.sk-item {position: relative;z-index: 1;}#sk-container-id-3 div.sk-parallel {display: flex;align-items: stretch;justify-content: center;background-color: white;position: relative;}#sk-container-id-3 div.sk-item::before, #sk-container-id-3 div.sk-parallel-item::before {content: \"\";position: absolute;border-left: 1px solid gray;box-sizing: border-box;top: 0;bottom: 0;left: 50%;z-index: -1;}#sk-container-id-3 div.sk-parallel-item {display: flex;flex-direction: column;z-index: 1;position: relative;background-color: white;}#sk-container-id-3 div.sk-parallel-item:first-child::after {align-self: flex-end;width: 50%;}#sk-container-id-3 div.sk-parallel-item:last-child::after {align-self: flex-start;width: 50%;}#sk-container-id-3 div.sk-parallel-item:only-child::after {width: 0;}#sk-container-id-3 div.sk-dashed-wrapped {border: 1px dashed gray;margin: 0 0.4em 0.5em 0.4em;box-sizing: border-box;padding-bottom: 0.4em;background-color: white;}#sk-container-id-3 div.sk-label label {font-family: monospace;font-weight: bold;display: inline-block;line-height: 1.2em;}#sk-container-id-3 div.sk-label-container {text-align: center;}#sk-container-id-3 div.sk-container {/* jupyter's `normalize.less` sets `[hidden] { display: none; }` but bootstrap.min.css set `[hidden] { display: none !important; }` so we also need the `!important` here to be able to override the default hidden behavior on the sphinx rendered scikit-learn.org. See: https://github.com/scikit-learn/scikit-learn/issues/21755 */display: inline-block !important;position: relative;}#sk-container-id-3 div.sk-text-repr-fallback {display: none;}</style><div id=\"sk-container-id-3\" class=\"sk-top-container\"><div class=\"sk-text-repr-fallback\"><pre>SVC()</pre><b>In a Jupyter environment, please rerun this cell to show the HTML representation or trust the notebook. <br />On GitHub, the HTML representation is unable to render, please try loading this page with nbviewer.org.</b></div><div class=\"sk-container\" hidden><div class=\"sk-item\"><div class=\"sk-estimator sk-toggleable\"><input class=\"sk-toggleable__control sk-hidden--visually\" id=\"sk-estimator-id-3\" type=\"checkbox\" checked><label for=\"sk-estimator-id-3\" class=\"sk-toggleable__label sk-toggleable__label-arrow\">SVC</label><div class=\"sk-toggleable__content\"><pre>SVC()</pre></div></div></div></div></div>"
      ],
      "text/plain": [
       "SVC()"
      ]
     },
     "execution_count": 80,
     "metadata": {},
     "output_type": "execute_result"
    }
   ],
   "source": [
    "svm = SVC()\n",
    "svm.fit(tfidf_X_train, tfidf_y_train)"
   ]
  },
  {
   "cell_type": "code",
   "execution_count": 81,
   "id": "b2e89544-eacd-4947-b538-3841f8332281",
   "metadata": {
    "tags": []
   },
   "outputs": [],
   "source": [
    "svm_y_pred = svm.predict(tfidf_X_test)"
   ]
  },
  {
   "cell_type": "code",
   "execution_count": 82,
   "id": "7630e421-d890-4e31-ae66-eedb91cf4fbf",
   "metadata": {
    "tags": []
   },
   "outputs": [
    {
     "name": "stdout",
     "output_type": "stream",
     "text": [
      "              precision    recall  f1-score   support\n",
      "\n",
      "           0       0.88      0.84      0.86       779\n",
      "           1       0.92      0.90      0.91       819\n",
      "           2       0.85      0.89      0.87       777\n",
      "           3       0.83      0.85      0.84       777\n",
      "           4       0.84      0.81      0.83       773\n",
      "           5       0.84      0.84      0.84       806\n",
      "           6       0.84      0.81      0.83       750\n",
      "           7       0.87      0.89      0.88       782\n",
      "           8       0.98      0.98      0.98       743\n",
      "           9       0.74      0.77      0.75       777\n",
      "          10       0.92      0.93      0.93       740\n",
      "          11       0.76      0.70      0.73       761\n",
      "          12       0.82      0.86      0.84       769\n",
      "\n",
      "    accuracy                           0.85     10053\n",
      "   macro avg       0.85      0.85      0.85     10053\n",
      "weighted avg       0.85      0.85      0.85     10053\n",
      "\n"
     ]
    }
   ],
   "source": [
    "print(classification_report(y_true=tfidf_y_test, y_pred=svm_y_pred))"
   ]
  },
  {
   "cell_type": "markdown",
   "id": "6fbc2d9c-9017-4903-a3ad-e32e33066d9a",
   "metadata": {},
   "source": [
    "## Naive Bayes"
   ]
  },
  {
   "cell_type": "code",
   "execution_count": 83,
   "id": "1df81c91-649b-4854-bf42-317edb27f5d4",
   "metadata": {
    "tags": []
   },
   "outputs": [
    {
     "data": {
      "text/html": [
       "<style>#sk-container-id-4 {color: black;background-color: white;}#sk-container-id-4 pre{padding: 0;}#sk-container-id-4 div.sk-toggleable {background-color: white;}#sk-container-id-4 label.sk-toggleable__label {cursor: pointer;display: block;width: 100%;margin-bottom: 0;padding: 0.3em;box-sizing: border-box;text-align: center;}#sk-container-id-4 label.sk-toggleable__label-arrow:before {content: \"▸\";float: left;margin-right: 0.25em;color: #696969;}#sk-container-id-4 label.sk-toggleable__label-arrow:hover:before {color: black;}#sk-container-id-4 div.sk-estimator:hover label.sk-toggleable__label-arrow:before {color: black;}#sk-container-id-4 div.sk-toggleable__content {max-height: 0;max-width: 0;overflow: hidden;text-align: left;background-color: #f0f8ff;}#sk-container-id-4 div.sk-toggleable__content pre {margin: 0.2em;color: black;border-radius: 0.25em;background-color: #f0f8ff;}#sk-container-id-4 input.sk-toggleable__control:checked~div.sk-toggleable__content {max-height: 200px;max-width: 100%;overflow: auto;}#sk-container-id-4 input.sk-toggleable__control:checked~label.sk-toggleable__label-arrow:before {content: \"▾\";}#sk-container-id-4 div.sk-estimator input.sk-toggleable__control:checked~label.sk-toggleable__label {background-color: #d4ebff;}#sk-container-id-4 div.sk-label input.sk-toggleable__control:checked~label.sk-toggleable__label {background-color: #d4ebff;}#sk-container-id-4 input.sk-hidden--visually {border: 0;clip: rect(1px 1px 1px 1px);clip: rect(1px, 1px, 1px, 1px);height: 1px;margin: -1px;overflow: hidden;padding: 0;position: absolute;width: 1px;}#sk-container-id-4 div.sk-estimator {font-family: monospace;background-color: #f0f8ff;border: 1px dotted black;border-radius: 0.25em;box-sizing: border-box;margin-bottom: 0.5em;}#sk-container-id-4 div.sk-estimator:hover {background-color: #d4ebff;}#sk-container-id-4 div.sk-parallel-item::after {content: \"\";width: 100%;border-bottom: 1px solid gray;flex-grow: 1;}#sk-container-id-4 div.sk-label:hover label.sk-toggleable__label {background-color: #d4ebff;}#sk-container-id-4 div.sk-serial::before {content: \"\";position: absolute;border-left: 1px solid gray;box-sizing: border-box;top: 0;bottom: 0;left: 50%;z-index: 0;}#sk-container-id-4 div.sk-serial {display: flex;flex-direction: column;align-items: center;background-color: white;padding-right: 0.2em;padding-left: 0.2em;position: relative;}#sk-container-id-4 div.sk-item {position: relative;z-index: 1;}#sk-container-id-4 div.sk-parallel {display: flex;align-items: stretch;justify-content: center;background-color: white;position: relative;}#sk-container-id-4 div.sk-item::before, #sk-container-id-4 div.sk-parallel-item::before {content: \"\";position: absolute;border-left: 1px solid gray;box-sizing: border-box;top: 0;bottom: 0;left: 50%;z-index: -1;}#sk-container-id-4 div.sk-parallel-item {display: flex;flex-direction: column;z-index: 1;position: relative;background-color: white;}#sk-container-id-4 div.sk-parallel-item:first-child::after {align-self: flex-end;width: 50%;}#sk-container-id-4 div.sk-parallel-item:last-child::after {align-self: flex-start;width: 50%;}#sk-container-id-4 div.sk-parallel-item:only-child::after {width: 0;}#sk-container-id-4 div.sk-dashed-wrapped {border: 1px dashed gray;margin: 0 0.4em 0.5em 0.4em;box-sizing: border-box;padding-bottom: 0.4em;background-color: white;}#sk-container-id-4 div.sk-label label {font-family: monospace;font-weight: bold;display: inline-block;line-height: 1.2em;}#sk-container-id-4 div.sk-label-container {text-align: center;}#sk-container-id-4 div.sk-container {/* jupyter's `normalize.less` sets `[hidden] { display: none; }` but bootstrap.min.css set `[hidden] { display: none !important; }` so we also need the `!important` here to be able to override the default hidden behavior on the sphinx rendered scikit-learn.org. See: https://github.com/scikit-learn/scikit-learn/issues/21755 */display: inline-block !important;position: relative;}#sk-container-id-4 div.sk-text-repr-fallback {display: none;}</style><div id=\"sk-container-id-4\" class=\"sk-top-container\"><div class=\"sk-text-repr-fallback\"><pre>MultinomialNB()</pre><b>In a Jupyter environment, please rerun this cell to show the HTML representation or trust the notebook. <br />On GitHub, the HTML representation is unable to render, please try loading this page with nbviewer.org.</b></div><div class=\"sk-container\" hidden><div class=\"sk-item\"><div class=\"sk-estimator sk-toggleable\"><input class=\"sk-toggleable__control sk-hidden--visually\" id=\"sk-estimator-id-4\" type=\"checkbox\" checked><label for=\"sk-estimator-id-4\" class=\"sk-toggleable__label sk-toggleable__label-arrow\">MultinomialNB</label><div class=\"sk-toggleable__content\"><pre>MultinomialNB()</pre></div></div></div></div></div>"
      ],
      "text/plain": [
       "MultinomialNB()"
      ]
     },
     "execution_count": 83,
     "metadata": {},
     "output_type": "execute_result"
    }
   ],
   "source": [
    "NB = MultinomialNB()\n",
    "NB.fit(tfidf_X_train, tfidf_y_train)"
   ]
  },
  {
   "cell_type": "code",
   "execution_count": 84,
   "id": "7ebaaec2-e948-4fbb-b1ac-3af067982c6d",
   "metadata": {
    "tags": []
   },
   "outputs": [],
   "source": [
    "NB_y_pred = NB.predict(tfidf_X_test)"
   ]
  },
  {
   "cell_type": "code",
   "execution_count": 85,
   "id": "8d9b9cd0-6850-4c16-94a6-21aeee80f2d0",
   "metadata": {
    "tags": []
   },
   "outputs": [
    {
     "name": "stdout",
     "output_type": "stream",
     "text": [
      "              precision    recall  f1-score   support\n",
      "\n",
      "           0       0.94      0.76      0.84       779\n",
      "           1       0.89      0.89      0.89       819\n",
      "           2       0.78      0.92      0.84       777\n",
      "           3       0.89      0.70      0.78       777\n",
      "           4       0.74      0.80      0.77       773\n",
      "           5       0.73      0.85      0.78       806\n",
      "           6       0.78      0.79      0.79       750\n",
      "           7       0.86      0.89      0.88       782\n",
      "           8       0.99      0.98      0.98       743\n",
      "           9       0.73      0.69      0.71       777\n",
      "          10       0.95      0.88      0.91       740\n",
      "          11       0.76      0.63      0.69       761\n",
      "          12       0.72      0.88      0.79       769\n",
      "\n",
      "    accuracy                           0.82     10053\n",
      "   macro avg       0.83      0.82      0.82     10053\n",
      "weighted avg       0.83      0.82      0.82     10053\n",
      "\n"
     ]
    }
   ],
   "source": [
    "print(classification_report(y_true=tfidf_y_test, y_pred=NB_y_pred))"
   ]
  },
  {
   "cell_type": "markdown",
   "id": "bc50dc46-c880-4298-84d6-47f8ce8370f5",
   "metadata": {
    "tags": []
   },
   "source": [
    "## ANN"
   ]
  },
  {
   "cell_type": "code",
   "execution_count": 86,
   "id": "f736c59b-90f5-42cd-a6a5-1adc5150aaef",
   "metadata": {
    "tags": []
   },
   "outputs": [],
   "source": [
    "token = Tokenizer()\n",
    "token.fit_on_texts(clean_data['content'])"
   ]
  },
  {
   "cell_type": "code",
   "execution_count": 87,
   "id": "4372b69b-f0ab-4b2a-9186-96def1e6a66a",
   "metadata": {
    "tags": []
   },
   "outputs": [
    {
     "data": {
      "text/plain": [
       "360288"
      ]
     },
     "execution_count": 87,
     "metadata": {},
     "output_type": "execute_result"
    }
   ],
   "source": [
    "vocab_size = len(token.index_word)\n",
    "vocab_size"
   ]
  },
  {
   "cell_type": "code",
   "execution_count": 88,
   "id": "03dc785f-94e0-4235-9bd0-4ef7720a8fb1",
   "metadata": {
    "tags": []
   },
   "outputs": [],
   "source": [
    "X = token.texts_to_sequences(clean_data['content'])"
   ]
  },
  {
   "cell_type": "code",
   "execution_count": 89,
   "id": "941996f2-f3a8-45dd-ad75-2d9cf0a00258",
   "metadata": {
    "tags": []
   },
   "outputs": [],
   "source": [
    "X = pad_sequences(X, maxlen=max_length, padding='post', truncating='post')"
   ]
  },
  {
   "cell_type": "code",
   "execution_count": 90,
   "id": "57f768f8-0d1f-4086-98bc-ef09306722df",
   "metadata": {
    "tags": []
   },
   "outputs": [
    {
     "data": {
      "text/plain": [
       "(50264, 5728)"
      ]
     },
     "execution_count": 90,
     "metadata": {},
     "output_type": "execute_result"
    }
   ],
   "source": [
    "X.shape"
   ]
  },
  {
   "cell_type": "code",
   "execution_count": 91,
   "id": "125b7a8b-7f0c-4433-8d78-ac71e2d93fbb",
   "metadata": {
    "tags": []
   },
   "outputs": [],
   "source": [
    "y = to_categorical(y)"
   ]
  },
  {
   "cell_type": "code",
   "execution_count": 92,
   "id": "ded203fd-726e-46f5-9b35-cf527c2a5ddf",
   "metadata": {
    "tags": []
   },
   "outputs": [],
   "source": [
    "X_train, X_test, y_train, y_test = train_test_split(X, y, train_size=0.7, random_state=50)"
   ]
  },
  {
   "cell_type": "code",
   "execution_count": 134,
   "id": "a490742b-a90b-4119-b827-9e9aaca6a0b1",
   "metadata": {
    "tags": []
   },
   "outputs": [
    {
     "name": "stdout",
     "output_type": "stream",
     "text": [
      "Model: \"sequential_3\"\n",
      "_________________________________________________________________\n",
      " Layer (type)                Output Shape              Param #   \n",
      "=================================================================\n",
      " embedding_3 (Embedding)     (None, 5728, 20)          7205780   \n",
      "                                                                 \n",
      " flatten_3 (Flatten)         (None, 114560)            0         \n",
      "                                                                 \n",
      " dense_9 (Dense)             (None, 128)               14663808  \n",
      "                                                                 \n",
      " dense_10 (Dense)            (None, 256)               33024     \n",
      "                                                                 \n",
      " dense_11 (Dense)            (None, 13)                3341      \n",
      "                                                                 \n",
      "=================================================================\n",
      "Total params: 21,905,953\n",
      "Trainable params: 21,905,953\n",
      "Non-trainable params: 0\n",
      "_________________________________________________________________\n"
     ]
    }
   ],
   "source": [
    "ANN = Sequential()\n",
    "ANN.add(Embedding(vocab_size+1, 20, input_length=max_length))\n",
    "ANN.add(Flatten())\n",
    "ANN.add(Dense(128, activation=\"tanh\"))\n",
    "ANN.add(Dense(256, activation=\"tanh\"))\n",
    "ANN.add(Dense(k, activation=\"softmax\"))\n",
    "ANN.summary()"
   ]
  },
  {
   "cell_type": "code",
   "execution_count": 135,
   "id": "6cec39cc-600c-4015-9d26-7a71c006d39e",
   "metadata": {
    "tags": []
   },
   "outputs": [],
   "source": [
    "ANN.compile(optimizer=\"adam\", loss=\"categorical_crossentropy\", metrics=['acc'])"
   ]
  },
  {
   "cell_type": "code",
   "execution_count": 136,
   "id": "2e876fbb-26b2-4118-b950-c9a835e72a6e",
   "metadata": {
    "tags": []
   },
   "outputs": [
    {
     "name": "stdout",
     "output_type": "stream",
     "text": [
      "Epoch 1/10\n",
      "94/94 [==============================] - 59s 613ms/step - loss: 2.6119 - acc: 0.0963 - val_loss: 2.2398 - val_acc: 0.1944\n",
      "Epoch 2/10\n",
      "94/94 [==============================] - 62s 659ms/step - loss: 1.1453 - acc: 0.6270 - val_loss: 0.7102 - val_acc: 0.7763\n",
      "Epoch 3/10\n",
      "94/94 [==============================] - 64s 687ms/step - loss: 0.3144 - acc: 0.9086 - val_loss: 0.6568 - val_acc: 0.7935\n",
      "Epoch 4/10\n",
      "94/94 [==============================] - 62s 660ms/step - loss: 0.0961 - acc: 0.9819 - val_loss: 0.7076 - val_acc: 0.7927\n",
      "Epoch 5/10\n",
      "94/94 [==============================] - 57s 602ms/step - loss: 0.0284 - acc: 0.9979 - val_loss: 0.7539 - val_acc: 0.7939\n",
      "Epoch 6/10\n",
      "94/94 [==============================] - 56s 599ms/step - loss: 0.0113 - acc: 0.9999 - val_loss: 0.7924 - val_acc: 0.7937\n",
      "Epoch 7/10\n",
      "94/94 [==============================] - 56s 600ms/step - loss: 0.0064 - acc: 1.0000 - val_loss: 0.8199 - val_acc: 0.7944\n",
      "Epoch 8/10\n",
      "94/94 [==============================] - 57s 607ms/step - loss: 0.0042 - acc: 1.0000 - val_loss: 0.8437 - val_acc: 0.7934\n",
      "Epoch 9/10\n",
      "94/94 [==============================] - 58s 614ms/step - loss: 0.0031 - acc: 1.0000 - val_loss: 0.8634 - val_acc: 0.7928\n",
      "Epoch 10/10\n",
      "94/94 [==============================] - 57s 605ms/step - loss: 0.0024 - acc: 1.0000 - val_loss: 0.8806 - val_acc: 0.7927\n"
     ]
    }
   ],
   "source": [
    "history = ANN.fit(X_train, y_train, epochs=10, batch_size=300, validation_split=0.2, verbose=1)"
   ]
  },
  {
   "cell_type": "code",
   "execution_count": 137,
   "id": "091ee403-7b4b-4c9e-9a6e-eceb922abfe9",
   "metadata": {
    "tags": []
   },
   "outputs": [
    {
     "data": {
      "text/plain": [
       "<matplotlib.legend.Legend at 0x26e5b85cd90>"
      ]
     },
     "execution_count": 137,
     "metadata": {},
     "output_type": "execute_result"
    },
    {
     "data": {
      "image/png": "[encoded data removed]",
      "text/plain": [
       "<Figure size 700x500 with 1 Axes>"
      ]
     },
     "metadata": {},
     "output_type": "display_data"
    }
   ],
   "source": [
    "plt.figure(figsize=(7, 5))\n",
    "plt.plot(history.history['loss'], label=\"loss\")\n",
    "plt.plot(history.history['val_loss'], label=\"val_loss\")\n",
    "plt.legend()"
   ]
  },
  {
   "cell_type": "code",
   "execution_count": 138,
   "id": "cf2f3b5f-dd49-44aa-a58e-65ce99d9a1a5",
   "metadata": {
    "tags": []
   },
   "outputs": [
    {
     "name": "stdout",
     "output_type": "stream",
     "text": [
      "472/472 [==============================] - 10s 21ms/step\n"
     ]
    }
   ],
   "source": [
    "y_pred = ANN.predict(X_test)"
   ]
  },
  {
   "cell_type": "code",
   "execution_count": 141,
   "id": "77191655-b8ed-4ea7-b6a4-ef4972b1df70",
   "metadata": {
    "tags": []
   },
   "outputs": [],
   "source": [
    "true_result = []\n",
    "pred_result = []\n",
    "for i in range(len(y_pred)):\n",
    "    true_result.append(np.argmax(y_test[i]))\n",
    "    pred_result.append(np.argmax(y_pred[i]))"
   ]
  },
  {
   "cell_type": "code",
   "execution_count": 142,
   "id": "b5dc41de-25e7-4a9b-8844-fdb4b3dd2a63",
   "metadata": {
    "tags": []
   },
   "outputs": [
    {
     "name": "stdout",
     "output_type": "stream",
     "text": [
      "              precision    recall  f1-score   support\n",
      "\n",
      "           0       0.81      0.77      0.79      1134\n",
      "           1       0.85      0.87      0.86      1193\n",
      "           2       0.79      0.81      0.80      1151\n",
      "           3       0.78      0.76      0.77      1178\n",
      "           4       0.77      0.72      0.75      1184\n",
      "           5       0.73      0.79      0.76      1106\n",
      "           6       0.76      0.76      0.76      1193\n",
      "           7       0.81      0.85      0.83      1135\n",
      "           8       0.94      0.95      0.95      1148\n",
      "           9       0.67      0.63      0.65      1109\n",
      "          10       0.89      0.89      0.89      1194\n",
      "          11       0.69      0.64      0.67      1213\n",
      "          12       0.73      0.78      0.76      1142\n",
      "\n",
      "    accuracy                           0.79     15080\n",
      "   macro avg       0.79      0.79      0.79     15080\n",
      "weighted avg       0.79      0.79      0.79     15080\n",
      "\n"
     ]
    }
   ],
   "source": [
    "print(classification_report(y_true=true_result, y_pred=pred_result))"
   ]
  },
  {
   "cell_type": "markdown",
   "id": "70ff1ae4",
   "metadata": {},
   "source": [
    "# Exercise 3"
   ]
  },
  {
   "cell_type": "code",
   "execution_count": 9,
   "id": "73ab4a0d-58a4-4e6c-a9f6-8b86c934b184",
   "metadata": {
    "tags": []
   },
   "outputs": [],
   "source": [
    "class Ngrams:\n",
    "    def __init__(self, n):\n",
    "        self.n = n\n",
    "        self.corpus = None\n",
    "        self.counter_ngrams = Counter()\n",
    "        self.counter_context = Counter()\n",
    "        self.V = 0\n",
    "        self.alpha = 1.01\n",
    "        self.context_vocab = dict()\n",
    "        \n",
    "    def _preprocessing(self, text):\n",
    "        reg_vn_char = \"[^\\w ]\"\n",
    "        text = text.lower()\n",
    "        text = re.sub(reg_vn_char, \"\", text)\n",
    "        text = \"startseq \" + text\n",
    "        return text\n",
    "    \n",
    "    def _tokenize(self, text):\n",
    "        return nltk.word_tokenize(text)\n",
    "    \n",
    "    def _get_ngrams(self, tokens, n):\n",
    "        n_grams = nltk.ngrams(tokens, n)\n",
    "        grams = list()\n",
    "        for gram in list(n_grams):\n",
    "            context, token = gram[:-1], gram[-1]\n",
    "            grams.append(tuple([\"_\".join(list(context)), token]))\n",
    "        return grams\n",
    "    \n",
    "    def _update_context_vocab(self, n_grams):\n",
    "        self.context_vocab['<UNK>'] = set()\n",
    "        for k, v in n_grams:\n",
    "            if not k in self.context_vocab.keys():\n",
    "                self.context_vocab[k] = set([v])\n",
    "            else:\n",
    "                self.context_vocab[k].add(v)\n",
    "            self.context_vocab['<UNK>'].union(v)\n",
    "    \n",
    "    def prob(self, context, token):\n",
    "        try: \n",
    "            return ((float(self.counter_ngrams[tuple([context, token])]) + self.alpha) / \n",
    "                    float(self.counter_context(context)) + self.V * self.alpha)\n",
    "        except:\n",
    "            return (0.0 + self.alpha) / (0.0 + self.V * self.alpha)\n",
    "    \n",
    "    def generate_text(self, input_text, num_words):\n",
    "        input_text = self._preprocessing(input_text)\n",
    "        input_text = nltk.word_tokenize(input_text)\n",
    "        input_len = len(input_text) + 1\n",
    "        input_text = [\"startseq\"] * (self.n - input_len) + input_text\n",
    "        for i in range(num_words):\n",
    "            n_grams = list(nltk.ngrams(input_text, self.n-1))\n",
    "            context = \"_\".join(n_grams[-1])\n",
    "            try:\n",
    "                tokens = list(self.context_vocab[context])\n",
    "            except:\n",
    "                tokens = list(self.context_vocab[\"<UNK>\"])\n",
    "            probs = list()\n",
    "            for token in tokens:\n",
    "                probs.append(self.prob(context, token))\n",
    "            token = tokens[probs.index(max(probs))]\n",
    "            input_text += [token]\n",
    "        return \" \".join(input_text)\n",
    "    \n",
    "    def fit(self, corpus):\n",
    "        for sent in tqdm(corpus):\n",
    "            sent = self._preprocessing(sent)\n",
    "            tokens = self._tokenize(sent)\n",
    "            self.V += len(list(nltk.ngrams(sent, 1)))\n",
    "            n_grams = self._get_ngrams(tokens, self.n)\n",
    "            self._update_context_vocab(n_grams)\n",
    "            context = self._get_ngrams(tokens, self.n-1)\n",
    "            self.counter_ngrams.update(n_grams)\n",
    "            self.counter_context.update(context)"
   ]
  },
  {
   "cell_type": "code",
   "execution_count": null,
   "id": "5d676a17-58b7-43ba-a475-f7ba7b14203b",
   "metadata": {
    "tags": []
   },
   "outputs": [
    {
     "name": "stderr",
     "output_type": "stream",
     "text": [
      " 91%|████████████████████████████████████████████████████████████████████▊       | 47082/51999 [12:50<01:46, 46.24it/s]"
     ]
    }
   ],
   "source": [
    "ngrams = Ngrams(4)\n",
    "ngrams.fit(clean_data['content'])"
   ]
  },
  {
   "cell_type": "code",
   "execution_count": 11,
   "id": "e5554102-58eb-4d24-a8d5-54e4d2bec9ba",
   "metadata": {
    "tags": []
   },
   "outputs": [
    {
     "data": {
      "text/plain": [
       "'startseq tôi muốn lưu_ý đến an_toàn chạy tàu tương_ứng với tên khác nữa'"
      ]
     },
     "execution_count": 11,
     "metadata": {},
     "output_type": "execute_result"
    }
   ],
   "source": [
    "ngrams.generate_text(\"Tôi muốn\", 10)"
   ]
  }
 ],
 "metadata": {
  "kernelspec": {
   "display_name": "Python 3 (ipykernel)",
   "language": "python",
   "name": "python3"
  },
  "language_info": {
   "codemirror_mode": {
    "name": "ipython",
    "version": 3
   },
   "file_extension": ".py",
   "mimetype": "text/x-python",
   "name": "python",
   "nbconvert_exporter": "python",
   "pygments_lexer": "ipython3",
   "version": "3.9.6"
  },
  "widgets": {
   "application/vnd.jupyter.widget-state+json": {
    "state": {},
    "version_major": 2,
    "version_minor": 0
   }
  }
 },
 "nbformat": 4,
 "nbformat_minor": 5
}
